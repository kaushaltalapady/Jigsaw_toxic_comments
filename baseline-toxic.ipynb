{
 "cells": [
  {
   "cell_type": "code",
   "execution_count": 1,
   "id": "19b320d4",
   "metadata": {
    "_cell_guid": "b1076dfc-b9ad-4769-8c92-a6c4dae69d19",
    "_uuid": "8f2839f25d086af736a60e9eeb907d3b93b6e0e5",
    "execution": {
     "iopub.execute_input": "2021-12-28T01:24:11.945837Z",
     "iopub.status.busy": "2021-12-28T01:24:11.944946Z",
     "iopub.status.idle": "2021-12-28T01:24:13.192820Z",
     "shell.execute_reply": "2021-12-28T01:24:13.192127Z"
    },
    "papermill": {
     "duration": 1.279839,
     "end_time": "2021-12-28T01:24:13.193046",
     "exception": false,
     "start_time": "2021-12-28T01:24:11.913207",
     "status": "completed"
    },
    "tags": []
   },
   "outputs": [],
   "source": [
    "import numpy as np\n",
    "import pandas as pd\n",
    "import seaborn as sns\n",
    "from bs4 import BeautifulSoup\n",
    "import re"
   ]
  },
  {
   "cell_type": "code",
   "execution_count": 2,
   "id": "ce9cc47b",
   "metadata": {
    "execution": {
     "iopub.execute_input": "2021-12-28T01:24:13.244362Z",
     "iopub.status.busy": "2021-12-28T01:24:13.243587Z",
     "iopub.status.idle": "2021-12-28T01:24:14.874475Z",
     "shell.execute_reply": "2021-12-28T01:24:14.873838Z"
    },
    "papermill": {
     "duration": 1.658992,
     "end_time": "2021-12-28T01:24:14.874641",
     "exception": false,
     "start_time": "2021-12-28T01:24:13.215649",
     "status": "completed"
    },
    "tags": []
   },
   "outputs": [
    {
     "name": "stdout",
     "output_type": "stream",
     "text": [
      "Archive:  ../input/jigsaw-toxic-comment-classification-challenge/train.csv.zip\r\n",
      "  inflating: train.csv               \r\n"
     ]
    }
   ],
   "source": [
    "!unzip ../input/jigsaw-toxic-comment-classification-challenge/train.csv.zip"
   ]
  },
  {
   "cell_type": "code",
   "execution_count": 3,
   "id": "3567a873",
   "metadata": {
    "execution": {
     "iopub.execute_input": "2021-12-28T01:24:14.936360Z",
     "iopub.status.busy": "2021-12-28T01:24:14.928721Z",
     "iopub.status.idle": "2021-12-28T01:24:16.097742Z",
     "shell.execute_reply": "2021-12-28T01:24:16.098402Z"
    },
    "papermill": {
     "duration": 1.201304,
     "end_time": "2021-12-28T01:24:16.098611",
     "exception": false,
     "start_time": "2021-12-28T01:24:14.897307",
     "status": "completed"
    },
    "tags": []
   },
   "outputs": [],
   "source": [
    "data=pd.read_csv('train.csv')"
   ]
  },
  {
   "cell_type": "code",
   "execution_count": 4,
   "id": "c775a972",
   "metadata": {
    "execution": {
     "iopub.execute_input": "2021-12-28T01:24:16.149140Z",
     "iopub.status.busy": "2021-12-28T01:24:16.148097Z",
     "iopub.status.idle": "2021-12-28T01:24:16.173499Z",
     "shell.execute_reply": "2021-12-28T01:24:16.172763Z"
    },
    "papermill": {
     "duration": 0.051851,
     "end_time": "2021-12-28T01:24:16.173669",
     "exception": false,
     "start_time": "2021-12-28T01:24:16.121818",
     "status": "completed"
    },
    "tags": []
   },
   "outputs": [
    {
     "data": {
      "text/html": [
       "<div>\n",
       "<style scoped>\n",
       "    .dataframe tbody tr th:only-of-type {\n",
       "        vertical-align: middle;\n",
       "    }\n",
       "\n",
       "    .dataframe tbody tr th {\n",
       "        vertical-align: top;\n",
       "    }\n",
       "\n",
       "    .dataframe thead th {\n",
       "        text-align: right;\n",
       "    }\n",
       "</style>\n",
       "<table border=\"1\" class=\"dataframe\">\n",
       "  <thead>\n",
       "    <tr style=\"text-align: right;\">\n",
       "      <th></th>\n",
       "      <th>id</th>\n",
       "      <th>comment_text</th>\n",
       "      <th>toxic</th>\n",
       "      <th>severe_toxic</th>\n",
       "      <th>obscene</th>\n",
       "      <th>threat</th>\n",
       "      <th>insult</th>\n",
       "      <th>identity_hate</th>\n",
       "    </tr>\n",
       "  </thead>\n",
       "  <tbody>\n",
       "    <tr>\n",
       "      <th>0</th>\n",
       "      <td>0000997932d777bf</td>\n",
       "      <td>Explanation\\nWhy the edits made under my usern...</td>\n",
       "      <td>0</td>\n",
       "      <td>0</td>\n",
       "      <td>0</td>\n",
       "      <td>0</td>\n",
       "      <td>0</td>\n",
       "      <td>0</td>\n",
       "    </tr>\n",
       "    <tr>\n",
       "      <th>1</th>\n",
       "      <td>000103f0d9cfb60f</td>\n",
       "      <td>D'aww! He matches this background colour I'm s...</td>\n",
       "      <td>0</td>\n",
       "      <td>0</td>\n",
       "      <td>0</td>\n",
       "      <td>0</td>\n",
       "      <td>0</td>\n",
       "      <td>0</td>\n",
       "    </tr>\n",
       "    <tr>\n",
       "      <th>2</th>\n",
       "      <td>000113f07ec002fd</td>\n",
       "      <td>Hey man, I'm really not trying to edit war. It...</td>\n",
       "      <td>0</td>\n",
       "      <td>0</td>\n",
       "      <td>0</td>\n",
       "      <td>0</td>\n",
       "      <td>0</td>\n",
       "      <td>0</td>\n",
       "    </tr>\n",
       "    <tr>\n",
       "      <th>3</th>\n",
       "      <td>0001b41b1c6bb37e</td>\n",
       "      <td>\"\\nMore\\nI can't make any real suggestions on ...</td>\n",
       "      <td>0</td>\n",
       "      <td>0</td>\n",
       "      <td>0</td>\n",
       "      <td>0</td>\n",
       "      <td>0</td>\n",
       "      <td>0</td>\n",
       "    </tr>\n",
       "    <tr>\n",
       "      <th>4</th>\n",
       "      <td>0001d958c54c6e35</td>\n",
       "      <td>You, sir, are my hero. Any chance you remember...</td>\n",
       "      <td>0</td>\n",
       "      <td>0</td>\n",
       "      <td>0</td>\n",
       "      <td>0</td>\n",
       "      <td>0</td>\n",
       "      <td>0</td>\n",
       "    </tr>\n",
       "  </tbody>\n",
       "</table>\n",
       "</div>"
      ],
      "text/plain": [
       "                 id                                       comment_text  toxic  \\\n",
       "0  0000997932d777bf  Explanation\\nWhy the edits made under my usern...      0   \n",
       "1  000103f0d9cfb60f  D'aww! He matches this background colour I'm s...      0   \n",
       "2  000113f07ec002fd  Hey man, I'm really not trying to edit war. It...      0   \n",
       "3  0001b41b1c6bb37e  \"\\nMore\\nI can't make any real suggestions on ...      0   \n",
       "4  0001d958c54c6e35  You, sir, are my hero. Any chance you remember...      0   \n",
       "\n",
       "   severe_toxic  obscene  threat  insult  identity_hate  \n",
       "0             0        0       0       0              0  \n",
       "1             0        0       0       0              0  \n",
       "2             0        0       0       0              0  \n",
       "3             0        0       0       0              0  \n",
       "4             0        0       0       0              0  "
      ]
     },
     "execution_count": 4,
     "metadata": {},
     "output_type": "execute_result"
    }
   ],
   "source": [
    "data.head()"
   ]
  },
  {
   "cell_type": "code",
   "execution_count": 5,
   "id": "39a1d91f",
   "metadata": {
    "execution": {
     "iopub.execute_input": "2021-12-28T01:24:16.226892Z",
     "iopub.status.busy": "2021-12-28T01:24:16.225892Z",
     "iopub.status.idle": "2021-12-28T01:24:16.241107Z",
     "shell.execute_reply": "2021-12-28T01:24:16.241633Z"
    },
    "papermill": {
     "duration": 0.044747,
     "end_time": "2021-12-28T01:24:16.241825",
     "exception": false,
     "start_time": "2021-12-28T01:24:16.197078",
     "status": "completed"
    },
    "tags": []
   },
   "outputs": [
    {
     "data": {
      "text/plain": [
       "0    144277\n",
       "1     15294\n",
       "Name: toxic, dtype: int64"
      ]
     },
     "execution_count": 5,
     "metadata": {},
     "output_type": "execute_result"
    }
   ],
   "source": [
    "data['toxic'].value_counts()"
   ]
  },
  {
   "cell_type": "code",
   "execution_count": 6,
   "id": "00bc1f4d",
   "metadata": {
    "execution": {
     "iopub.execute_input": "2021-12-28T01:24:16.298136Z",
     "iopub.status.busy": "2021-12-28T01:24:16.297428Z",
     "iopub.status.idle": "2021-12-28T01:24:16.300120Z",
     "shell.execute_reply": "2021-12-28T01:24:16.300609Z"
    },
    "papermill": {
     "duration": 0.035283,
     "end_time": "2021-12-28T01:24:16.300797",
     "exception": false,
     "start_time": "2021-12-28T01:24:16.265514",
     "status": "completed"
    },
    "tags": []
   },
   "outputs": [
    {
     "data": {
      "text/plain": [
       "0    157976\n",
       "1      1595\n",
       "Name: severe_toxic, dtype: int64"
      ]
     },
     "execution_count": 6,
     "metadata": {},
     "output_type": "execute_result"
    }
   ],
   "source": [
    "data['severe_toxic'].value_counts()"
   ]
  },
  {
   "cell_type": "code",
   "execution_count": 7,
   "id": "cc0f7e28",
   "metadata": {
    "execution": {
     "iopub.execute_input": "2021-12-28T01:24:16.352231Z",
     "iopub.status.busy": "2021-12-28T01:24:16.351546Z",
     "iopub.status.idle": "2021-12-28T01:24:16.358490Z",
     "shell.execute_reply": "2021-12-28T01:24:16.359003Z"
    },
    "papermill": {
     "duration": 0.034364,
     "end_time": "2021-12-28T01:24:16.359197",
     "exception": false,
     "start_time": "2021-12-28T01:24:16.324833",
     "status": "completed"
    },
    "tags": []
   },
   "outputs": [
    {
     "data": {
      "text/plain": [
       "0    151122\n",
       "1      8449\n",
       "Name: obscene, dtype: int64"
      ]
     },
     "execution_count": 7,
     "metadata": {},
     "output_type": "execute_result"
    }
   ],
   "source": [
    "data['obscene'].value_counts()"
   ]
  },
  {
   "cell_type": "code",
   "execution_count": 8,
   "id": "1081583b",
   "metadata": {
    "execution": {
     "iopub.execute_input": "2021-12-28T01:24:16.412574Z",
     "iopub.status.busy": "2021-12-28T01:24:16.411919Z",
     "iopub.status.idle": "2021-12-28T01:24:16.419688Z",
     "shell.execute_reply": "2021-12-28T01:24:16.420204Z"
    },
    "papermill": {
     "duration": 0.036014,
     "end_time": "2021-12-28T01:24:16.420376",
     "exception": false,
     "start_time": "2021-12-28T01:24:16.384362",
     "status": "completed"
    },
    "tags": []
   },
   "outputs": [
    {
     "data": {
      "text/plain": [
       "0    159093\n",
       "1       478\n",
       "Name: threat, dtype: int64"
      ]
     },
     "execution_count": 8,
     "metadata": {},
     "output_type": "execute_result"
    }
   ],
   "source": [
    "data['threat'].value_counts()"
   ]
  },
  {
   "cell_type": "code",
   "execution_count": 9,
   "id": "ef9784fe",
   "metadata": {
    "execution": {
     "iopub.execute_input": "2021-12-28T01:24:16.474123Z",
     "iopub.status.busy": "2021-12-28T01:24:16.473472Z",
     "iopub.status.idle": "2021-12-28T01:24:16.481490Z",
     "shell.execute_reply": "2021-12-28T01:24:16.481989Z"
    },
    "papermill": {
     "duration": 0.036957,
     "end_time": "2021-12-28T01:24:16.482159",
     "exception": false,
     "start_time": "2021-12-28T01:24:16.445202",
     "status": "completed"
    },
    "tags": []
   },
   "outputs": [
    {
     "data": {
      "text/plain": [
       "0    151694\n",
       "1      7877\n",
       "Name: insult, dtype: int64"
      ]
     },
     "execution_count": 9,
     "metadata": {},
     "output_type": "execute_result"
    }
   ],
   "source": [
    "data['insult'].value_counts()"
   ]
  },
  {
   "cell_type": "code",
   "execution_count": 10,
   "id": "78babca0",
   "metadata": {
    "execution": {
     "iopub.execute_input": "2021-12-28T01:24:16.535945Z",
     "iopub.status.busy": "2021-12-28T01:24:16.535350Z",
     "iopub.status.idle": "2021-12-28T01:24:16.542522Z",
     "shell.execute_reply": "2021-12-28T01:24:16.543039Z"
    },
    "papermill": {
     "duration": 0.036044,
     "end_time": "2021-12-28T01:24:16.543204",
     "exception": false,
     "start_time": "2021-12-28T01:24:16.507160",
     "status": "completed"
    },
    "tags": []
   },
   "outputs": [
    {
     "data": {
      "text/plain": [
       "0    158166\n",
       "1      1405\n",
       "Name: identity_hate, dtype: int64"
      ]
     },
     "execution_count": 10,
     "metadata": {},
     "output_type": "execute_result"
    }
   ],
   "source": [
    "data['identity_hate'].value_counts()"
   ]
  },
  {
   "cell_type": "code",
   "execution_count": 11,
   "id": "98c852b1",
   "metadata": {
    "execution": {
     "iopub.execute_input": "2021-12-28T01:24:16.597602Z",
     "iopub.status.busy": "2021-12-28T01:24:16.596999Z",
     "iopub.status.idle": "2021-12-28T01:24:17.433814Z",
     "shell.execute_reply": "2021-12-28T01:24:17.433125Z"
    },
    "papermill": {
     "duration": 0.86555,
     "end_time": "2021-12-28T01:24:17.433990",
     "exception": false,
     "start_time": "2021-12-28T01:24:16.568440",
     "status": "completed"
    },
    "tags": []
   },
   "outputs": [
    {
     "name": "stdout",
     "output_type": "stream",
     "text": [
      "Archive:  ../input/jigsaw-toxic-comment-classification-challenge/test_labels.csv.zip\r\n",
      "  inflating: test_labels.csv         \r\n"
     ]
    }
   ],
   "source": [
    "!unzip ../input/jigsaw-toxic-comment-classification-challenge/test_labels.csv.zip"
   ]
  },
  {
   "cell_type": "code",
   "execution_count": 12,
   "id": "f0621870",
   "metadata": {
    "execution": {
     "iopub.execute_input": "2021-12-28T01:24:17.496270Z",
     "iopub.status.busy": "2021-12-28T01:24:17.495197Z",
     "iopub.status.idle": "2021-12-28T01:24:17.671418Z",
     "shell.execute_reply": "2021-12-28T01:24:17.671936Z"
    },
    "papermill": {
     "duration": 0.210997,
     "end_time": "2021-12-28T01:24:17.672152",
     "exception": false,
     "start_time": "2021-12-28T01:24:17.461155",
     "status": "completed"
    },
    "tags": []
   },
   "outputs": [],
   "source": [
    "labels=pd.read_csv('./test_labels.csv')"
   ]
  },
  {
   "cell_type": "code",
   "execution_count": 13,
   "id": "df90e3b1",
   "metadata": {
    "execution": {
     "iopub.execute_input": "2021-12-28T01:24:17.731619Z",
     "iopub.status.busy": "2021-12-28T01:24:17.730888Z",
     "iopub.status.idle": "2021-12-28T01:24:17.733692Z",
     "shell.execute_reply": "2021-12-28T01:24:17.733174Z"
    },
    "papermill": {
     "duration": 0.034378,
     "end_time": "2021-12-28T01:24:17.733850",
     "exception": false,
     "start_time": "2021-12-28T01:24:17.699472",
     "status": "completed"
    },
    "tags": []
   },
   "outputs": [],
   "source": [
    "value_dict={'toxic':1,'insult':5,'obscene':3,'severe_toxic':6,'identity_hate':8,'threat':10}"
   ]
  },
  {
   "cell_type": "code",
   "execution_count": 14,
   "id": "a92a9573",
   "metadata": {
    "execution": {
     "iopub.execute_input": "2021-12-28T01:24:17.793634Z",
     "iopub.status.busy": "2021-12-28T01:24:17.792933Z",
     "iopub.status.idle": "2021-12-28T01:24:17.802905Z",
     "shell.execute_reply": "2021-12-28T01:24:17.803449Z"
    },
    "papermill": {
     "duration": 0.04249,
     "end_time": "2021-12-28T01:24:17.803644",
     "exception": false,
     "start_time": "2021-12-28T01:24:17.761154",
     "status": "completed"
    },
    "tags": []
   },
   "outputs": [],
   "source": [
    "for i in value_dict.keys():\n",
    "    data[i]=data[i]*value_dict[i]"
   ]
  },
  {
   "cell_type": "code",
   "execution_count": 15,
   "id": "adc00e45",
   "metadata": {
    "execution": {
     "iopub.execute_input": "2021-12-28T01:24:17.875537Z",
     "iopub.status.busy": "2021-12-28T01:24:17.863884Z",
     "iopub.status.idle": "2021-12-28T01:24:17.908542Z",
     "shell.execute_reply": "2021-12-28T01:24:17.909101Z"
    },
    "papermill": {
     "duration": 0.077741,
     "end_time": "2021-12-28T01:24:17.909310",
     "exception": false,
     "start_time": "2021-12-28T01:24:17.831569",
     "status": "completed"
    },
    "tags": []
   },
   "outputs": [],
   "source": [
    "processed_data=pd.DataFrame({'text':data['comment_text'],'toxic_value':data[list(value_dict.keys())].sum(axis=1)})"
   ]
  },
  {
   "cell_type": "code",
   "execution_count": 16,
   "id": "04e07344",
   "metadata": {
    "execution": {
     "iopub.execute_input": "2021-12-28T01:24:17.969214Z",
     "iopub.status.busy": "2021-12-28T01:24:17.967432Z",
     "iopub.status.idle": "2021-12-28T01:24:18.124093Z",
     "shell.execute_reply": "2021-12-28T01:24:18.123346Z"
    },
    "papermill": {
     "duration": 0.186991,
     "end_time": "2021-12-28T01:24:18.124260",
     "exception": false,
     "start_time": "2021-12-28T01:24:17.937269",
     "status": "completed"
    },
    "tags": []
   },
   "outputs": [],
   "source": [
    "from sklearn.feature_extraction.text import TfidfVectorizer"
   ]
  },
  {
   "cell_type": "code",
   "execution_count": 17,
   "id": "d5928b40",
   "metadata": {
    "execution": {
     "iopub.execute_input": "2021-12-28T01:24:18.190299Z",
     "iopub.status.busy": "2021-12-28T01:24:18.189377Z",
     "iopub.status.idle": "2021-12-28T01:24:18.191969Z",
     "shell.execute_reply": "2021-12-28T01:24:18.191414Z"
    },
    "papermill": {
     "duration": 0.039233,
     "end_time": "2021-12-28T01:24:18.192138",
     "exception": false,
     "start_time": "2021-12-28T01:24:18.152905",
     "status": "completed"
    },
    "tags": []
   },
   "outputs": [],
   "source": [
    "def text_cleaning(text):\n",
    "    '''\n",
    "    Cleans text into a basic form for NLP. Operations include the following:-\n",
    "    1. Remove special charecters like &, #, etc\n",
    "    2. Removes extra spaces\n",
    "    3. Removes embedded URL links\n",
    "    4. Removes HTML tags\n",
    "    5. Removes emojis\n",
    "    \n",
    "    text - Text piece to be cleaned.\n",
    "    '''\n",
    "    template = re.compile(r'https?://\\S+|www\\.\\S+') #Removes website links\n",
    "    text = template.sub(r'', text)\n",
    "    \n",
    "    soup = BeautifulSoup(text, 'lxml') #Removes HTML tags\n",
    "    only_text = soup.get_text()\n",
    "    text = only_text\n",
    "    \n",
    "    emoji_pattern = re.compile(\"[\"\n",
    "                               u\"\\U0001F600-\\U0001F64F\"  # emoticons\n",
    "                               u\"\\U0001F300-\\U0001F5FF\"  # symbols & pictographs\n",
    "                               u\"\\U0001F680-\\U0001F6FF\"  # transport & map symbols\n",
    "                               u\"\\U0001F1E0-\\U0001F1FF\"  # flags (iOS)\n",
    "                               u\"\\U00002702-\\U000027B0\"\n",
    "                               u\"\\U000024C2-\\U0001F251\"\n",
    "                               \"]+\", flags=re.UNICODE)\n",
    "    text = emoji_pattern.sub(r'', text)\n",
    "    \n",
    "    text = re.sub(r\"[^a-zA-Z\\d]\", \" \", text) #Remove special Charecters\n",
    "    text = re.sub(' +', ' ', text) #Remove Extra Spaces\n",
    "    text = text.strip() # remove spaces at the beginning and at the end of string\n",
    "\n",
    "    return text"
   ]
  },
  {
   "cell_type": "code",
   "execution_count": 18,
   "id": "2e144489",
   "metadata": {
    "execution": {
     "iopub.execute_input": "2021-12-28T01:24:18.256087Z",
     "iopub.status.busy": "2021-12-28T01:24:18.253332Z",
     "iopub.status.idle": "2021-12-28T01:25:16.147632Z",
     "shell.execute_reply": "2021-12-28T01:25:16.147062Z"
    },
    "papermill": {
     "duration": 57.927087,
     "end_time": "2021-12-28T01:25:16.147796",
     "exception": false,
     "start_time": "2021-12-28T01:24:18.220709",
     "status": "completed"
    },
    "tags": []
   },
   "outputs": [],
   "source": [
    "processed_data['text'] = processed_data['text'].apply(text_cleaning)"
   ]
  },
  {
   "cell_type": "code",
   "execution_count": 19,
   "id": "5ffc0e8a",
   "metadata": {
    "execution": {
     "iopub.execute_input": "2021-12-28T01:25:16.208465Z",
     "iopub.status.busy": "2021-12-28T01:25:16.207813Z",
     "iopub.status.idle": "2021-12-28T01:25:16.210930Z",
     "shell.execute_reply": "2021-12-28T01:25:16.210459Z"
    },
    "papermill": {
     "duration": 0.035721,
     "end_time": "2021-12-28T01:25:16.211085",
     "exception": false,
     "start_time": "2021-12-28T01:25:16.175364",
     "status": "completed"
    },
    "tags": []
   },
   "outputs": [],
   "source": [
    "vectorizer=TfidfVectorizer(stop_words='english',ngram_range=(1,3))"
   ]
  },
  {
   "cell_type": "code",
   "execution_count": 20,
   "id": "d39a5bbd",
   "metadata": {
    "execution": {
     "iopub.execute_input": "2021-12-28T01:25:16.284569Z",
     "iopub.status.busy": "2021-12-28T01:25:16.279095Z",
     "iopub.status.idle": "2021-12-28T01:26:33.715411Z",
     "shell.execute_reply": "2021-12-28T01:26:33.716190Z"
    },
    "papermill": {
     "duration": 77.478223,
     "end_time": "2021-12-28T01:26:33.716499",
     "exception": false,
     "start_time": "2021-12-28T01:25:16.238276",
     "status": "completed"
    },
    "tags": []
   },
   "outputs": [],
   "source": [
    "text=vectorizer.fit_transform(processed_data['text'])"
   ]
  },
  {
   "cell_type": "code",
   "execution_count": 21,
   "id": "3ede2d49",
   "metadata": {
    "execution": {
     "iopub.execute_input": "2021-12-28T01:26:33.786087Z",
     "iopub.status.busy": "2021-12-28T01:26:33.785385Z",
     "iopub.status.idle": "2021-12-28T01:26:34.001169Z",
     "shell.execute_reply": "2021-12-28T01:26:34.000513Z"
    },
    "papermill": {
     "duration": 0.251563,
     "end_time": "2021-12-28T01:26:34.001356",
     "exception": false,
     "start_time": "2021-12-28T01:26:33.749793",
     "status": "completed"
    },
    "tags": []
   },
   "outputs": [],
   "source": [
    "from sklearn.linear_model import Ridge\n",
    "model=Ridge()\n"
   ]
  },
  {
   "cell_type": "code",
   "execution_count": 22,
   "id": "2896f04c",
   "metadata": {
    "execution": {
     "iopub.execute_input": "2021-12-28T01:26:34.064475Z",
     "iopub.status.busy": "2021-12-28T01:26:34.063755Z",
     "iopub.status.idle": "2021-12-28T01:26:57.362827Z",
     "shell.execute_reply": "2021-12-28T01:26:57.363897Z"
    },
    "papermill": {
     "duration": 23.334708,
     "end_time": "2021-12-28T01:26:57.364226",
     "exception": false,
     "start_time": "2021-12-28T01:26:34.029518",
     "status": "completed"
    },
    "tags": []
   },
   "outputs": [
    {
     "data": {
      "text/plain": [
       "Ridge()"
      ]
     },
     "execution_count": 22,
     "metadata": {},
     "output_type": "execute_result"
    }
   ],
   "source": [
    "model.fit(text,processed_data['toxic_value'])"
   ]
  },
  {
   "cell_type": "code",
   "execution_count": 23,
   "id": "653c7905",
   "metadata": {
    "execution": {
     "iopub.execute_input": "2021-12-28T01:26:57.472665Z",
     "iopub.status.busy": "2021-12-28T01:26:57.471978Z",
     "iopub.status.idle": "2021-12-28T01:26:57.564145Z",
     "shell.execute_reply": "2021-12-28T01:26:57.565239Z"
    },
    "papermill": {
     "duration": 0.149828,
     "end_time": "2021-12-28T01:26:57.565513",
     "exception": false,
     "start_time": "2021-12-28T01:26:57.415685",
     "status": "completed"
    },
    "tags": []
   },
   "outputs": [],
   "source": [
    "valid=pd.read_csv('../input/jigsaw-toxic-severity-rating/comments_to_score.csv')"
   ]
  },
  {
   "cell_type": "code",
   "execution_count": 24,
   "id": "7bfe75ad",
   "metadata": {
    "execution": {
     "iopub.execute_input": "2021-12-28T01:26:57.627226Z",
     "iopub.status.busy": "2021-12-28T01:26:57.626274Z",
     "iopub.status.idle": "2021-12-28T01:27:00.335511Z",
     "shell.execute_reply": "2021-12-28T01:27:00.336068Z"
    },
    "papermill": {
     "duration": 2.7418,
     "end_time": "2021-12-28T01:27:00.336296",
     "exception": false,
     "start_time": "2021-12-28T01:26:57.594496",
     "status": "completed"
    },
    "tags": []
   },
   "outputs": [],
   "source": [
    "valid_text=valid['text'].apply(text_cleaning)"
   ]
  },
  {
   "cell_type": "code",
   "execution_count": 25,
   "id": "9091c20c",
   "metadata": {
    "execution": {
     "iopub.execute_input": "2021-12-28T01:27:00.409162Z",
     "iopub.status.busy": "2021-12-28T01:27:00.408490Z",
     "iopub.status.idle": "2021-12-28T01:27:02.197302Z",
     "shell.execute_reply": "2021-12-28T01:27:02.196628Z"
    },
    "papermill": {
     "duration": 1.832083,
     "end_time": "2021-12-28T01:27:02.197472",
     "exception": false,
     "start_time": "2021-12-28T01:27:00.365389",
     "status": "completed"
    },
    "tags": []
   },
   "outputs": [],
   "source": [
    "valid_text=vectorizer.transform(valid_text)"
   ]
  },
  {
   "cell_type": "code",
   "execution_count": 26,
   "id": "6540532b",
   "metadata": {
    "execution": {
     "iopub.execute_input": "2021-12-28T01:27:02.261731Z",
     "iopub.status.busy": "2021-12-28T01:27:02.260804Z",
     "iopub.status.idle": "2021-12-28T01:27:02.272760Z",
     "shell.execute_reply": "2021-12-28T01:27:02.272039Z"
    },
    "papermill": {
     "duration": 0.04635,
     "end_time": "2021-12-28T01:27:02.272929",
     "exception": false,
     "start_time": "2021-12-28T01:27:02.226579",
     "status": "completed"
    },
    "tags": []
   },
   "outputs": [],
   "source": [
    "out=model.predict(valid_text)"
   ]
  },
  {
   "cell_type": "code",
   "execution_count": 27,
   "id": "378c76c6",
   "metadata": {
    "execution": {
     "iopub.execute_input": "2021-12-28T01:27:02.338311Z",
     "iopub.status.busy": "2021-12-28T01:27:02.337316Z",
     "iopub.status.idle": "2021-12-28T01:27:02.340595Z",
     "shell.execute_reply": "2021-12-28T01:27:02.340037Z"
    },
    "papermill": {
     "duration": 0.039074,
     "end_time": "2021-12-28T01:27:02.340749",
     "exception": false,
     "start_time": "2021-12-28T01:27:02.301675",
     "status": "completed"
    },
    "tags": []
   },
   "outputs": [],
   "source": [
    "sub=pd.DataFrame({'comment_id':valid['comment_id'],'score':out})"
   ]
  },
  {
   "cell_type": "code",
   "execution_count": 28,
   "id": "e490ba17",
   "metadata": {
    "execution": {
     "iopub.execute_input": "2021-12-28T01:27:02.405708Z",
     "iopub.status.busy": "2021-12-28T01:27:02.405046Z",
     "iopub.status.idle": "2021-12-28T01:27:02.407843Z",
     "shell.execute_reply": "2021-12-28T01:27:02.407157Z"
    },
    "papermill": {
     "duration": 0.037672,
     "end_time": "2021-12-28T01:27:02.408020",
     "exception": false,
     "start_time": "2021-12-28T01:27:02.370348",
     "status": "completed"
    },
    "tags": []
   },
   "outputs": [],
   "source": [
    "import pickle"
   ]
  },
  {
   "cell_type": "code",
   "execution_count": 29,
   "id": "c31d8500",
   "metadata": {
    "execution": {
     "iopub.execute_input": "2021-12-28T01:27:02.536239Z",
     "iopub.status.busy": "2021-12-28T01:27:02.535574Z",
     "iopub.status.idle": "2021-12-28T01:27:02.595299Z",
     "shell.execute_reply": "2021-12-28T01:27:02.594585Z"
    },
    "papermill": {
     "duration": 0.157549,
     "end_time": "2021-12-28T01:27:02.595455",
     "exception": false,
     "start_time": "2021-12-28T01:27:02.437906",
     "status": "completed"
    },
    "tags": []
   },
   "outputs": [],
   "source": [
    "filename='model.pkl'\n",
    "pickle.dump(model, open(filename, 'wb'))"
   ]
  },
  {
   "cell_type": "code",
   "execution_count": 30,
   "id": "9bd9488f",
   "metadata": {
    "execution": {
     "iopub.execute_input": "2021-12-28T01:27:02.659517Z",
     "iopub.status.busy": "2021-12-28T01:27:02.658831Z",
     "iopub.status.idle": "2021-12-28T01:27:02.660430Z",
     "shell.execute_reply": "2021-12-28T01:27:02.660943Z"
    },
    "papermill": {
     "duration": 0.036373,
     "end_time": "2021-12-28T01:27:02.661126",
     "exception": false,
     "start_time": "2021-12-28T01:27:02.624753",
     "status": "completed"
    },
    "tags": []
   },
   "outputs": [],
   "source": [
    "filename2='vectorizer.pkl'"
   ]
  },
  {
   "cell_type": "code",
   "execution_count": 31,
   "id": "50c2144f",
   "metadata": {
    "execution": {
     "iopub.execute_input": "2021-12-28T01:27:02.724280Z",
     "iopub.status.busy": "2021-12-28T01:27:02.723616Z",
     "iopub.status.idle": "2021-12-28T01:27:08.186773Z",
     "shell.execute_reply": "2021-12-28T01:27:08.186174Z"
    },
    "papermill": {
     "duration": 5.496661,
     "end_time": "2021-12-28T01:27:08.186925",
     "exception": false,
     "start_time": "2021-12-28T01:27:02.690264",
     "status": "completed"
    },
    "tags": []
   },
   "outputs": [],
   "source": [
    "pickle.dump(vectorizer, open(filename2, 'wb'))"
   ]
  },
  {
   "cell_type": "code",
   "execution_count": null,
   "id": "5dca2d04",
   "metadata": {
    "papermill": {
     "duration": 0.029167,
     "end_time": "2021-12-28T01:27:08.245657",
     "exception": false,
     "start_time": "2021-12-28T01:27:08.216490",
     "status": "completed"
    },
    "tags": []
   },
   "outputs": [],
   "source": []
  }
 ],
 "metadata": {
  "kernelspec": {
   "display_name": "Python 3",
   "language": "python",
   "name": "python3"
  },
  "language_info": {
   "codemirror_mode": {
    "name": "ipython",
    "version": 3
   },
   "file_extension": ".py",
   "mimetype": "text/x-python",
   "name": "python",
   "nbconvert_exporter": "python",
   "pygments_lexer": "ipython3",
   "version": "3.7.12"
  },
  "papermill": {
   "default_parameters": {},
   "duration": 188.633939,
   "end_time": "2021-12-28T01:27:10.191725",
   "environment_variables": {},
   "exception": null,
   "input_path": "__notebook__.ipynb",
   "output_path": "__notebook__.ipynb",
   "parameters": {},
   "start_time": "2021-12-28T01:24:01.557786",
   "version": "2.3.3"
  }
 },
 "nbformat": 4,
 "nbformat_minor": 5
}
