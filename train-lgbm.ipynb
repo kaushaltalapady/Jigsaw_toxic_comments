{
 "cells": [
  {
   "cell_type": "code",
   "execution_count": 1,
   "id": "978649b2",
   "metadata": {
    "_cell_guid": "b1076dfc-b9ad-4769-8c92-a6c4dae69d19",
    "_uuid": "8f2839f25d086af736a60e9eeb907d3b93b6e0e5",
    "execution": {
     "iopub.execute_input": "2021-12-29T03:03:37.278279Z",
     "iopub.status.busy": "2021-12-29T03:03:37.276687Z",
     "iopub.status.idle": "2021-12-29T03:03:39.445289Z",
     "shell.execute_reply": "2021-12-29T03:03:39.444596Z",
     "shell.execute_reply.started": "2021-12-29T01:28:43.282888Z"
    },
    "papermill": {
     "duration": 2.182044,
     "end_time": "2021-12-29T03:03:39.445450",
     "exception": false,
     "start_time": "2021-12-29T03:03:37.263406",
     "status": "completed"
    },
    "tags": []
   },
   "outputs": [
    {
     "data": {
      "text/html": [
       "<style type='text/css'>\n",
       ".datatable table.frame { margin-bottom: 0; }\n",
       ".datatable table.frame thead { border-bottom: none; }\n",
       ".datatable table.frame tr.coltypes td {  color: #FFFFFF;  line-height: 6px;  padding: 0 0.5em;}\n",
       ".datatable .bool    { background: #DDDD99; }\n",
       ".datatable .object  { background: #565656; }\n",
       ".datatable .int     { background: #5D9E5D; }\n",
       ".datatable .float   { background: #4040CC; }\n",
       ".datatable .str     { background: #CC4040; }\n",
       ".datatable .time    { background: #40CC40; }\n",
       ".datatable .row_index {  background: var(--jp-border-color3);  border-right: 1px solid var(--jp-border-color0);  color: var(--jp-ui-font-color3);  font-size: 9px;}\n",
       ".datatable .frame tbody td { text-align: left; }\n",
       ".datatable .frame tr.coltypes .row_index {  background: var(--jp-border-color0);}\n",
       ".datatable th:nth-child(2) { padding-left: 12px; }\n",
       ".datatable .hellipsis {  color: var(--jp-cell-editor-border-color);}\n",
       ".datatable .vellipsis {  background: var(--jp-layout-color0);  color: var(--jp-cell-editor-border-color);}\n",
       ".datatable .na {  color: var(--jp-cell-editor-border-color);  font-size: 80%;}\n",
       ".datatable .sp {  opacity: 0.25;}\n",
       ".datatable .footer { font-size: 9px; }\n",
       ".datatable .frame_dimensions {  background: var(--jp-border-color3);  border-top: 1px solid var(--jp-border-color0);  color: var(--jp-ui-font-color3);  display: inline-block;  opacity: 0.6;  padding: 1px 10px 1px 5px;}\n",
       ".datatable .frame thead tr.colnames {  background-image: url('data:image/png;base64,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');  background-repeat: repeat-x;  background-size: 14px;  height: 28px;}\n",
       "</style>\n"
      ],
      "text/plain": [
       "<IPython.core.display.HTML object>"
      ]
     },
     "metadata": {},
     "output_type": "display_data"
    }
   ],
   "source": [
    "import numpy as np\n",
    "import pandas as pd\n",
    "import lightgbm as lgb\n",
    "import seaborn as sns\n",
    "from bs4 import BeautifulSoup\n",
    "import re"
   ]
  },
  {
   "cell_type": "code",
   "execution_count": 2,
   "id": "9ed9a692",
   "metadata": {
    "execution": {
     "iopub.execute_input": "2021-12-29T03:03:39.469419Z",
     "iopub.status.busy": "2021-12-29T03:03:39.468816Z",
     "iopub.status.idle": "2021-12-29T03:03:41.526167Z",
     "shell.execute_reply": "2021-12-29T03:03:41.525609Z",
     "shell.execute_reply.started": "2021-12-29T01:28:43.29052Z"
    },
    "papermill": {
     "duration": 2.071137,
     "end_time": "2021-12-29T03:03:41.526314",
     "exception": false,
     "start_time": "2021-12-29T03:03:39.455177",
     "status": "completed"
    },
    "tags": []
   },
   "outputs": [],
   "source": [
    "data=pd.read_csv('../input/jigsaw-toxic-comment-classification-challenge/train.csv')"
   ]
  },
  {
   "cell_type": "code",
   "execution_count": 3,
   "id": "606d2eb8",
   "metadata": {
    "execution": {
     "iopub.execute_input": "2021-12-29T03:03:41.550096Z",
     "iopub.status.busy": "2021-12-29T03:03:41.549197Z",
     "iopub.status.idle": "2021-12-29T03:03:41.552965Z",
     "shell.execute_reply": "2021-12-29T03:03:41.552455Z",
     "shell.execute_reply.started": "2021-12-29T01:28:45.674874Z"
    },
    "papermill": {
     "duration": 0.017275,
     "end_time": "2021-12-29T03:03:41.553107",
     "exception": false,
     "start_time": "2021-12-29T03:03:41.535832",
     "status": "completed"
    },
    "tags": []
   },
   "outputs": [],
   "source": [
    "value_dict={'toxic':1,'insult':5,'obscene':3,'severe_toxic':6,'identity_hate':8,'threat':10}"
   ]
  },
  {
   "cell_type": "code",
   "execution_count": 4,
   "id": "ccb0a25c",
   "metadata": {
    "execution": {
     "iopub.execute_input": "2021-12-29T03:03:41.579957Z",
     "iopub.status.busy": "2021-12-29T03:03:41.579332Z",
     "iopub.status.idle": "2021-12-29T03:03:41.587646Z",
     "shell.execute_reply": "2021-12-29T03:03:41.587069Z",
     "shell.execute_reply.started": "2021-12-29T01:28:45.682927Z"
    },
    "papermill": {
     "duration": 0.025819,
     "end_time": "2021-12-29T03:03:41.587802",
     "exception": false,
     "start_time": "2021-12-29T03:03:41.561983",
     "status": "completed"
    },
    "tags": []
   },
   "outputs": [],
   "source": [
    "for i in value_dict.keys():\n",
    "    data[i]=data[i]*value_dict[i]"
   ]
  },
  {
   "cell_type": "code",
   "execution_count": 5,
   "id": "7908842a",
   "metadata": {
    "execution": {
     "iopub.execute_input": "2021-12-29T03:03:41.617167Z",
     "iopub.status.busy": "2021-12-29T03:03:41.616463Z",
     "iopub.status.idle": "2021-12-29T03:03:41.624387Z",
     "shell.execute_reply": "2021-12-29T03:03:41.623790Z",
     "shell.execute_reply.started": "2021-12-29T01:28:45.707779Z"
    },
    "papermill": {
     "duration": 0.027687,
     "end_time": "2021-12-29T03:03:41.624519",
     "exception": false,
     "start_time": "2021-12-29T03:03:41.596832",
     "status": "completed"
    },
    "tags": []
   },
   "outputs": [],
   "source": [
    "processed_data=pd.DataFrame({'text':data['comment_text'],'toxic_value':data[list(value_dict.keys())].sum(axis=1)})"
   ]
  },
  {
   "cell_type": "code",
   "execution_count": 6,
   "id": "345e5eff",
   "metadata": {
    "execution": {
     "iopub.execute_input": "2021-12-29T03:03:41.649339Z",
     "iopub.status.busy": "2021-12-29T03:03:41.648710Z",
     "iopub.status.idle": "2021-12-29T03:03:41.662518Z",
     "shell.execute_reply": "2021-12-29T03:03:41.662957Z",
     "shell.execute_reply.started": "2021-12-29T01:28:45.727866Z"
    },
    "papermill": {
     "duration": 0.029859,
     "end_time": "2021-12-29T03:03:41.663136",
     "exception": false,
     "start_time": "2021-12-29T03:03:41.633277",
     "status": "completed"
    },
    "tags": []
   },
   "outputs": [],
   "source": [
    "from sklearn.feature_extraction.text import TfidfVectorizer\n",
    "def text_cleaning(text):\n",
    "    '''\n",
    "    Cleans text into a basic form for NLP. Operations include the following:-\n",
    "    1. Remove special charecters like &, #, etc\n",
    "    2. Removes extra spaces\n",
    "    3. Removes embedded URL links\n",
    "    4. Removes HTML tags\n",
    "    5. Removes emojis\n",
    "    \n",
    "    text - Text piece to be cleaned.\n",
    "    '''\n",
    "    template = re.compile(r'https?://\\S+|www\\.\\S+') #Removes website links\n",
    "    text = template.sub(r'', text)\n",
    "    \n",
    "    soup = BeautifulSoup(text, 'lxml') #Removes HTML tags\n",
    "    only_text = soup.get_text()\n",
    "    text = only_text\n",
    "    \n",
    "    emoji_pattern = re.compile(\"[\"\n",
    "                               u\"\\U0001F600-\\U0001F64F\"  # emoticons\n",
    "                               u\"\\U0001F300-\\U0001F5FF\"  # symbols & pictographs\n",
    "                               u\"\\U0001F680-\\U0001F6FF\"  # transport & map symbols\n",
    "                               u\"\\U0001F1E0-\\U0001F1FF\"  # flags (iOS)\n",
    "                               u\"\\U00002702-\\U000027B0\"\n",
    "                               u\"\\U000024C2-\\U0001F251\"\n",
    "                               \"]+\", flags=re.UNICODE)\n",
    "    text = emoji_pattern.sub(r'', text)\n",
    "    \n",
    "    text = re.sub(r\"[^a-zA-Z\\d]\", \" \", text) #Remove special Charecters\n",
    "    text = re.sub(' +', ' ', text) #Remove Extra Spaces\n",
    "    text = text.strip() # remove spaces at the beginning and at the end of string\n",
    "\n",
    "    return text"
   ]
  },
  {
   "cell_type": "code",
   "execution_count": 7,
   "id": "67d3a3c5",
   "metadata": {
    "execution": {
     "iopub.execute_input": "2021-12-29T03:03:41.683412Z",
     "iopub.status.busy": "2021-12-29T03:03:41.682830Z",
     "iopub.status.idle": "2021-12-29T03:05:25.920581Z",
     "shell.execute_reply": "2021-12-29T03:05:25.920021Z",
     "shell.execute_reply.started": "2021-12-29T01:36:55.056496Z"
    },
    "papermill": {
     "duration": 104.248976,
     "end_time": "2021-12-29T03:05:25.920747",
     "exception": false,
     "start_time": "2021-12-29T03:03:41.671771",
     "status": "completed"
    },
    "tags": []
   },
   "outputs": [],
   "source": [
    "processed_data['text'] = processed_data['text'].apply(text_cleaning)\n",
    "vectorizer=TfidfVectorizer(stop_words='english',ngram_range=(1,3))\n",
    "text=vectorizer.fit_transform(processed_data['text'])"
   ]
  },
  {
   "cell_type": "code",
   "execution_count": 8,
   "id": "f3f307f8",
   "metadata": {
    "execution": {
     "iopub.execute_input": "2021-12-29T03:05:25.943770Z",
     "iopub.status.busy": "2021-12-29T03:05:25.943139Z",
     "iopub.status.idle": "2021-12-29T03:05:25.944818Z",
     "shell.execute_reply": "2021-12-29T03:05:25.945327Z",
     "shell.execute_reply.started": "2021-12-29T01:38:29.871138Z"
    },
    "papermill": {
     "duration": 0.01523,
     "end_time": "2021-12-29T03:05:25.945473",
     "exception": false,
     "start_time": "2021-12-29T03:05:25.930243",
     "status": "completed"
    },
    "tags": []
   },
   "outputs": [],
   "source": [
    "model=lgb.LGBMRegressor(n_estimators=1500,learning_rate=0.1,max_depth=9,num_leaves=512)"
   ]
  },
  {
   "cell_type": "code",
   "execution_count": 9,
   "id": "c004fd83",
   "metadata": {
    "execution": {
     "iopub.execute_input": "2021-12-29T03:05:25.967252Z",
     "iopub.status.busy": "2021-12-29T03:05:25.964939Z",
     "iopub.status.idle": "2021-12-29T03:12:47.024373Z",
     "shell.execute_reply": "2021-12-29T03:12:47.024985Z",
     "shell.execute_reply.started": "2021-12-29T01:39:44.577757Z"
    },
    "papermill": {
     "duration": 441.071202,
     "end_time": "2021-12-29T03:12:47.025314",
     "exception": false,
     "start_time": "2021-12-29T03:05:25.954112",
     "status": "completed"
    },
    "tags": []
   },
   "outputs": [
    {
     "data": {
      "text/plain": [
       "LGBMRegressor(max_depth=9, n_estimators=1500, num_leaves=512)"
      ]
     },
     "execution_count": 9,
     "metadata": {},
     "output_type": "execute_result"
    }
   ],
   "source": [
    "model.fit(text,processed_data['toxic_value'])"
   ]
  },
  {
   "cell_type": "code",
   "execution_count": 10,
   "id": "4683d2d6",
   "metadata": {
    "execution": {
     "iopub.execute_input": "2021-12-29T03:12:47.051027Z",
     "iopub.status.busy": "2021-12-29T03:12:47.049649Z",
     "iopub.status.idle": "2021-12-29T03:12:49.697855Z",
     "shell.execute_reply": "2021-12-29T03:12:49.698326Z",
     "shell.execute_reply.started": "2021-12-29T01:46:16.45391Z"
    },
    "papermill": {
     "duration": 2.664285,
     "end_time": "2021-12-29T03:12:49.698643",
     "exception": false,
     "start_time": "2021-12-29T03:12:47.034358",
     "status": "completed"
    },
    "tags": []
   },
   "outputs": [],
   "source": [
    "import pickle\n",
    "filename='model.pkl'\n",
    "pickle.dump(model, open(filename, 'wb'))"
   ]
  },
  {
   "cell_type": "code",
   "execution_count": 11,
   "id": "3827fdd4",
   "metadata": {
    "execution": {
     "iopub.execute_input": "2021-12-29T03:12:49.727792Z",
     "iopub.status.busy": "2021-12-29T03:12:49.727194Z",
     "iopub.status.idle": "2021-12-29T03:12:53.398173Z",
     "shell.execute_reply": "2021-12-29T03:12:53.397574Z",
     "shell.execute_reply.started": "2021-12-29T01:46:18.225072Z"
    },
    "papermill": {
     "duration": 3.690512,
     "end_time": "2021-12-29T03:12:53.398318",
     "exception": false,
     "start_time": "2021-12-29T03:12:49.707806",
     "status": "completed"
    },
    "tags": []
   },
   "outputs": [],
   "source": [
    "filename2='vectorizer.pkl'\n",
    "pickle.dump(vectorizer, open(filename2, 'wb'))"
   ]
  },
  {
   "cell_type": "code",
   "execution_count": null,
   "id": "25061a97",
   "metadata": {
    "papermill": {
     "duration": 0.008462,
     "end_time": "2021-12-29T03:12:53.416335",
     "exception": false,
     "start_time": "2021-12-29T03:12:53.407873",
     "status": "completed"
    },
    "tags": []
   },
   "outputs": [],
   "source": []
  }
 ],
 "metadata": {
  "kernelspec": {
   "display_name": "Python 3",
   "language": "python",
   "name": "python3"
  },
  "language_info": {
   "codemirror_mode": {
    "name": "ipython",
    "version": 3
   },
   "file_extension": ".py",
   "mimetype": "text/x-python",
   "name": "python",
   "nbconvert_exporter": "python",
   "pygments_lexer": "ipython3",
   "version": "3.7.12"
  },
  "papermill": {
   "default_parameters": {},
   "duration": 567.229592,
   "end_time": "2021-12-29T03:12:56.055521",
   "environment_variables": {},
   "exception": null,
   "input_path": "__notebook__.ipynb",
   "output_path": "__notebook__.ipynb",
   "parameters": {},
   "start_time": "2021-12-29T03:03:28.825929",
   "version": "2.3.3"
  }
 },
 "nbformat": 4,
 "nbformat_minor": 5
}
