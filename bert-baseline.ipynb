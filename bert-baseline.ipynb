{
 "cells": [
  {
   "cell_type": "code",
   "execution_count": 1,
   "id": "41987bd9",
   "metadata": {
    "_cell_guid": "b1076dfc-b9ad-4769-8c92-a6c4dae69d19",
    "_uuid": "8f2839f25d086af736a60e9eeb907d3b93b6e0e5",
    "execution": {
     "iopub.execute_input": "2022-01-09T11:51:30.200594Z",
     "iopub.status.busy": "2022-01-09T11:51:30.199558Z",
     "iopub.status.idle": "2022-01-09T11:51:37.560283Z",
     "shell.execute_reply": "2022-01-09T11:51:37.559516Z",
     "shell.execute_reply.started": "2022-01-09T09:32:57.950873Z"
    },
    "papermill": {
     "duration": 7.421943,
     "end_time": "2022-01-09T11:51:37.560454",
     "exception": false,
     "start_time": "2022-01-09T11:51:30.138511",
     "status": "completed"
    },
    "tags": []
   },
   "outputs": [],
   "source": [
    "import pandas as pd\n",
    "import numpy as np\n",
    "import matplotlib.pyplot as plt\n",
    "import os \n",
    "import re\n",
    "import warnings\n",
    "from tqdm import tqdm\n",
    "import random\n",
    "import gc\n",
    "import torch\n",
    "import torch.nn as nn\n",
    "import torch.nn.functional as F\n",
    "import torch.optim as optim\n",
    "from torch.utils.data import Dataset, DataLoader\n",
    "from torch.optim.lr_scheduler import OneCycleLR\n",
    "from transformers import AutoTokenizer, AutoModel\n",
    "from bs4 import BeautifulSoup\n",
    "from transformers import AutoTokenizer, AutoModel, AdamW\n",
    "from sklearn.model_selection import KFold\n",
    "from tqdm import tqdm\n",
    "from sklearn.metrics import accuracy_score\n",
    "import time \n",
    "import copy\n",
    "import collections\n",
    "from collections import defaultdict\n",
    "import gc\n",
    "import os\n",
    "\n",
    "if torch.cuda.is_available():\n",
    "    device = torch.device('cuda')\n",
    "else:\n",
    "    device = torch.device('cpu')"
   ]
  },
  {
   "cell_type": "code",
   "execution_count": 2,
   "id": "0874f3d3",
   "metadata": {
    "execution": {
     "iopub.execute_input": "2022-01-09T11:51:37.604693Z",
     "iopub.status.busy": "2022-01-09T11:51:37.603108Z",
     "iopub.status.idle": "2022-01-09T11:51:37.605334Z",
     "shell.execute_reply": "2022-01-09T11:51:37.605735Z",
     "shell.execute_reply.started": "2022-01-09T09:33:07.415860Z"
    },
    "papermill": {
     "duration": 0.026902,
     "end_time": "2022-01-09T11:51:37.605882",
     "exception": false,
     "start_time": "2022-01-09T11:51:37.578980",
     "status": "completed"
    },
    "tags": []
   },
   "outputs": [],
   "source": [
    "def text_cleaning(text):\n",
    "    '''\n",
    "    Cleans text into a basic form for NLP. Operations include the following:-\n",
    "    1. Remove special charecters like &, #, etc\n",
    "    2. Removes extra spaces\n",
    "    3. Removes embedded URL links\n",
    "    4. Removes HTML tags\n",
    "    5. Removes emojis\n",
    "    \n",
    "    text - Text piece to be cleaned.\n",
    "    '''\n",
    "    template = re.compile(r'https?://\\S+|www\\.\\S+') #Removes website links\n",
    "    text = template.sub(r'', text)\n",
    "    \n",
    "    soup = BeautifulSoup(text, 'lxml') #Removes HTML tags\n",
    "    only_text = soup.get_text()\n",
    "    text = only_text\n",
    "    \n",
    "    emoji_pattern = re.compile(\"[\"\n",
    "                               u\"\\U0001F600-\\U0001F64F\"  # emoticons\n",
    "                               u\"\\U0001F300-\\U0001F5FF\"  # symbols & pictographs\n",
    "                               u\"\\U0001F680-\\U0001F6FF\"  # transport & map symbols\n",
    "                               u\"\\U0001F1E0-\\U0001F1FF\"  # flags (iOS)\n",
    "                               u\"\\U00002702-\\U000027B0\"\n",
    "                               u\"\\U000024C2-\\U0001F251\"\n",
    "                               \"]+\", flags=re.UNICODE)\n",
    "    text = emoji_pattern.sub(r'', text)\n",
    "    \n",
    "    text = re.sub(r\"[^a-zA-Z\\d]\", \" \", text) #Remove special Charecters\n",
    "    text = re.sub(' +', ' ', text) #Remove Extra Spaces\n",
    "    text = text.strip() # remove spaces at the beginning and at the end of string\n",
    "\n",
    "    return text"
   ]
  },
  {
   "cell_type": "code",
   "execution_count": 3,
   "id": "a00fe402",
   "metadata": {
    "execution": {
     "iopub.execute_input": "2022-01-09T11:51:37.644433Z",
     "iopub.status.busy": "2022-01-09T11:51:37.643871Z",
     "iopub.status.idle": "2022-01-09T11:51:38.156379Z",
     "shell.execute_reply": "2022-01-09T11:51:38.155692Z",
     "shell.execute_reply.started": "2022-01-09T09:33:07.427345Z"
    },
    "papermill": {
     "duration": 0.533135,
     "end_time": "2022-01-09T11:51:38.156519",
     "exception": false,
     "start_time": "2022-01-09T11:51:37.623384",
     "status": "completed"
    },
    "tags": []
   },
   "outputs": [],
   "source": [
    "data=pd.read_csv('../input/jigsaw-toxic-severity-rating/validation_data.csv')"
   ]
  },
  {
   "cell_type": "code",
   "execution_count": 4,
   "id": "e869fdcb",
   "metadata": {
    "execution": {
     "iopub.execute_input": "2022-01-09T11:51:38.208383Z",
     "iopub.status.busy": "2022-01-09T11:51:38.207307Z",
     "iopub.status.idle": "2022-01-09T11:51:56.631616Z",
     "shell.execute_reply": "2022-01-09T11:51:56.631134Z",
     "shell.execute_reply.started": "2022-01-09T09:33:07.957555Z"
    },
    "papermill": {
     "duration": 18.457666,
     "end_time": "2022-01-09T11:51:56.631749",
     "exception": false,
     "start_time": "2022-01-09T11:51:38.174083",
     "status": "completed"
    },
    "tags": []
   },
   "outputs": [],
   "source": [
    "data['less_toxic']=data['less_toxic'].apply(text_cleaning)\n",
    "data['more_toxic']=data['more_toxic'].apply(text_cleaning)"
   ]
  },
  {
   "cell_type": "code",
   "execution_count": 5,
   "id": "eaef5832",
   "metadata": {
    "execution": {
     "iopub.execute_input": "2022-01-09T11:51:56.672923Z",
     "iopub.status.busy": "2022-01-09T11:51:56.672188Z",
     "iopub.status.idle": "2022-01-09T11:51:56.682541Z",
     "shell.execute_reply": "2022-01-09T11:51:56.682981Z",
     "shell.execute_reply.started": "2022-01-09T09:33:32.865324Z"
    },
    "papermill": {
     "duration": 0.033903,
     "end_time": "2022-01-09T11:51:56.683110",
     "exception": false,
     "start_time": "2022-01-09T11:51:56.649207",
     "status": "completed"
    },
    "tags": []
   },
   "outputs": [
    {
     "data": {
      "text/html": [
       "<div>\n",
       "<style scoped>\n",
       "    .dataframe tbody tr th:only-of-type {\n",
       "        vertical-align: middle;\n",
       "    }\n",
       "\n",
       "    .dataframe tbody tr th {\n",
       "        vertical-align: top;\n",
       "    }\n",
       "\n",
       "    .dataframe thead th {\n",
       "        text-align: right;\n",
       "    }\n",
       "</style>\n",
       "<table border=\"1\" class=\"dataframe\">\n",
       "  <thead>\n",
       "    <tr style=\"text-align: right;\">\n",
       "      <th></th>\n",
       "      <th>worker</th>\n",
       "      <th>less_toxic</th>\n",
       "      <th>more_toxic</th>\n",
       "    </tr>\n",
       "  </thead>\n",
       "  <tbody>\n",
       "    <tr>\n",
       "      <th>0</th>\n",
       "      <td>313</td>\n",
       "      <td>This article sucks woo woo wooooooo</td>\n",
       "      <td>WHAT WHER IS YOUR SEXY PIC GONE FROM YOUR MAIN...</td>\n",
       "    </tr>\n",
       "    <tr>\n",
       "      <th>1</th>\n",
       "      <td>188</td>\n",
       "      <td>And yes people should recognize that but they ...</td>\n",
       "      <td>Daphne Guinness Top of the mornin my favourite...</td>\n",
       "    </tr>\n",
       "    <tr>\n",
       "      <th>2</th>\n",
       "      <td>82</td>\n",
       "      <td>Western Media Yup because every crime in the e...</td>\n",
       "      <td>Atom you don t believe actual photos of mastur...</td>\n",
       "    </tr>\n",
       "    <tr>\n",
       "      <th>3</th>\n",
       "      <td>347</td>\n",
       "      <td>And you removed it You numbskull I don t care ...</td>\n",
       "      <td>You seem to have sand in your vagina Might wan...</td>\n",
       "    </tr>\n",
       "    <tr>\n",
       "      <th>4</th>\n",
       "      <td>539</td>\n",
       "      <td>smelly vagina Bluerasberry why don t you be a ...</td>\n",
       "      <td>hey way to support nazis you racist</td>\n",
       "    </tr>\n",
       "  </tbody>\n",
       "</table>\n",
       "</div>"
      ],
      "text/plain": [
       "   worker                                         less_toxic  \\\n",
       "0     313                This article sucks woo woo wooooooo   \n",
       "1     188  And yes people should recognize that but they ...   \n",
       "2      82  Western Media Yup because every crime in the e...   \n",
       "3     347  And you removed it You numbskull I don t care ...   \n",
       "4     539  smelly vagina Bluerasberry why don t you be a ...   \n",
       "\n",
       "                                          more_toxic  \n",
       "0  WHAT WHER IS YOUR SEXY PIC GONE FROM YOUR MAIN...  \n",
       "1  Daphne Guinness Top of the mornin my favourite...  \n",
       "2  Atom you don t believe actual photos of mastur...  \n",
       "3  You seem to have sand in your vagina Might wan...  \n",
       "4                hey way to support nazis you racist  "
      ]
     },
     "execution_count": 5,
     "metadata": {},
     "output_type": "execute_result"
    }
   ],
   "source": [
    "data.head()"
   ]
  },
  {
   "cell_type": "code",
   "execution_count": 6,
   "id": "6cd11711",
   "metadata": {
    "execution": {
     "iopub.execute_input": "2022-01-09T11:51:56.725106Z",
     "iopub.status.busy": "2022-01-09T11:51:56.724289Z",
     "iopub.status.idle": "2022-01-09T11:51:56.726621Z",
     "shell.execute_reply": "2022-01-09T11:51:56.726226Z",
     "shell.execute_reply.started": "2022-01-09T09:33:32.887495Z"
    },
    "papermill": {
     "duration": 0.025446,
     "end_time": "2022-01-09T11:51:56.726724",
     "exception": false,
     "start_time": "2022-01-09T11:51:56.701278",
     "status": "completed"
    },
    "tags": []
   },
   "outputs": [],
   "source": [
    "params={\n",
    "    \n",
    "    'DEBUG':False,\n",
    "    'device':device,\n",
    "    'max_len':256,\n",
    "    'batch_size':8,\n",
    "    'output_logits':768,\n",
    "    \"dropout\":0.2,\n",
    "    \"num_workers\":2,\n",
    "    \"BERT_MODEL\":'roberta-base',\n",
    "    \"train_batch_size\": 16,\n",
    "    \"valid_batch_size\": 8,\n",
    "    \"learning_rate\": 1e-4,\n",
    "    \"scheduler\": 'CosineAnnealingLR',\n",
    "    \"min_lr\": 1e-6,\n",
    "    \"T_max\": 500,\n",
    "    \"weight_decay\": 1e-6,\n",
    "    \"n_fold\": 5,\n",
    "    \"n_accumulate\": 1,\n",
    "    \"num_classes\": 1,\n",
    "    \"margin\": 0.5\n",
    "}"
   ]
  },
  {
   "cell_type": "code",
   "execution_count": 7,
   "id": "d04965df",
   "metadata": {
    "execution": {
     "iopub.execute_input": "2022-01-09T11:51:56.770717Z",
     "iopub.status.busy": "2022-01-09T11:51:56.769602Z",
     "iopub.status.idle": "2022-01-09T11:51:56.772893Z",
     "shell.execute_reply": "2022-01-09T11:51:56.772481Z",
     "shell.execute_reply.started": "2022-01-09T09:33:32.898074Z"
    },
    "papermill": {
     "duration": 0.028802,
     "end_time": "2022-01-09T11:51:56.772999",
     "exception": false,
     "start_time": "2022-01-09T11:51:56.744197",
     "status": "completed"
    },
    "tags": []
   },
   "outputs": [],
   "source": [
    "class jigsaw_dataset(Dataset):\n",
    "    def __init__(self,data,tokenizer,max_length=params['max_len']):\n",
    "        self.more_toxic = data.more_toxic.values\n",
    "        self.less_toxic = data.less_toxic.values\n",
    "        self.target=data.target.values\n",
    "        self.tokenizer= tokenizer\n",
    "        self.max_len=max_length\n",
    "        self.data=data\n",
    "        \n",
    "    def __len__(self):\n",
    "        return len(self.data)\n",
    "    \n",
    "    def __getitem__(self,index):\n",
    "        more_toxic = self.more_toxic[index]\n",
    "        less_toxic=self.less_toxic[index]\n",
    "        inputs_more_toxic = self.tokenizer.encode_plus(\n",
    "                                more_toxic,\n",
    "                                truncation=True,\n",
    "                                add_special_tokens=True,\n",
    "                                max_length=self.max_len,\n",
    "                                padding='max_length'\n",
    "                            )\n",
    "        inputs_less_toxic = self.tokenizer.encode_plus(\n",
    "                                less_toxic,\n",
    "                                truncation=True,\n",
    "                                add_special_tokens=True,\n",
    "                                max_length=self.max_len,\n",
    "                                padding='max_length'\n",
    "                            )\n",
    "        more_toxic_ids=inputs_more_toxic['input_ids']\n",
    "        more_toxic_mask =inputs_more_toxic['attention_mask']\n",
    "        less_toxic_ids=inputs_less_toxic['input_ids']\n",
    "        less_toxic_mask =inputs_less_toxic['attention_mask']\n",
    "        target=self.target[index]\n",
    "        return {\n",
    "            \n",
    "            'More_toxic_id':torch.tensor(more_toxic_ids),\n",
    "            'More_toxic_mask':torch.tensor(more_toxic_mask),\n",
    "            'Less_toxic_mask':torch.tensor(less_toxic_mask),\n",
    "            'Less_toxic_id':torch.tensor(more_toxic_ids),\n",
    "            'Target' :torch.tensor(target)\n",
    "        }\n",
    "        "
   ]
  },
  {
   "cell_type": "code",
   "execution_count": 8,
   "id": "8fec55f9",
   "metadata": {
    "execution": {
     "iopub.execute_input": "2022-01-09T11:51:56.814525Z",
     "iopub.status.busy": "2022-01-09T11:51:56.813644Z",
     "iopub.status.idle": "2022-01-09T11:51:56.815570Z",
     "shell.execute_reply": "2022-01-09T11:51:56.816029Z",
     "shell.execute_reply.started": "2022-01-09T09:33:32.915494Z"
    },
    "papermill": {
     "duration": 0.025606,
     "end_time": "2022-01-09T11:51:56.816146",
     "exception": false,
     "start_time": "2022-01-09T11:51:56.790540",
     "status": "completed"
    },
    "tags": []
   },
   "outputs": [],
   "source": [
    "class BERT_Baseline(nn.Module):\n",
    "    def __init__(self,model_name):\n",
    "        super(BERT_Baseline,self).__init__()\n",
    "        self.model = AutoModel.from_pretrained(model_name)\n",
    "        self.drop = nn.Dropout(p=0.2)\n",
    "        self.flayer=nn.Linear(768,params['num_classes'])\n",
    "    \n",
    "    def forward(self,ids,mask):\n",
    "        out = self.model(input_ids=ids,attention_mask=mask,\n",
    "                         output_hidden_states=False)\n",
    "        out= self.drop(out[1])\n",
    "        out=self.flayer(out)\n",
    "        return out"
   ]
  },
  {
   "cell_type": "code",
   "execution_count": 9,
   "id": "1472be6a",
   "metadata": {
    "execution": {
     "iopub.execute_input": "2022-01-09T11:51:56.855896Z",
     "iopub.status.busy": "2022-01-09T11:51:56.855102Z",
     "iopub.status.idle": "2022-01-09T11:51:56.857062Z",
     "shell.execute_reply": "2022-01-09T11:51:56.857457Z",
     "shell.execute_reply.started": "2022-01-09T09:33:32.931626Z"
    },
    "papermill": {
     "duration": 0.023692,
     "end_time": "2022-01-09T11:51:56.857580",
     "exception": false,
     "start_time": "2022-01-09T11:51:56.833888",
     "status": "completed"
    },
    "tags": []
   },
   "outputs": [],
   "source": [
    "def criterion(outputs1, outputs2, targets):\n",
    "    return nn.MarginRankingLoss(margin=0.5)(outputs1, outputs2, targets)"
   ]
  },
  {
   "cell_type": "code",
   "execution_count": 10,
   "id": "93252c96",
   "metadata": {
    "execution": {
     "iopub.execute_input": "2022-01-09T11:51:56.895604Z",
     "iopub.status.busy": "2022-01-09T11:51:56.894799Z",
     "iopub.status.idle": "2022-01-09T11:51:56.910667Z",
     "shell.execute_reply": "2022-01-09T11:51:56.910243Z",
     "shell.execute_reply.started": "2022-01-09T09:33:32.948371Z"
    },
    "papermill": {
     "duration": 0.035579,
     "end_time": "2022-01-09T11:51:56.910766",
     "exception": false,
     "start_time": "2022-01-09T11:51:56.875187",
     "status": "completed"
    },
    "tags": []
   },
   "outputs": [],
   "source": [
    "data['target']=[1]*len(data)"
   ]
  },
  {
   "cell_type": "code",
   "execution_count": 11,
   "id": "6e40f4b6",
   "metadata": {
    "execution": {
     "iopub.execute_input": "2022-01-09T11:51:56.951968Z",
     "iopub.status.busy": "2022-01-09T11:51:56.951207Z",
     "iopub.status.idle": "2022-01-09T11:51:56.953542Z",
     "shell.execute_reply": "2022-01-09T11:51:56.953125Z",
     "shell.execute_reply.started": "2022-01-09T09:33:32.972361Z"
    },
    "papermill": {
     "duration": 0.025299,
     "end_time": "2022-01-09T11:51:56.953651",
     "exception": false,
     "start_time": "2022-01-09T11:51:56.928352",
     "status": "completed"
    },
    "tags": []
   },
   "outputs": [],
   "source": [
    "new_df=pd.DataFrame({'less_toxic':data['more_toxic'].values,'more_toxic':data['less_toxic'].values})"
   ]
  },
  {
   "cell_type": "code",
   "execution_count": 12,
   "id": "0ee7c193",
   "metadata": {
    "execution": {
     "iopub.execute_input": "2022-01-09T11:51:57.006038Z",
     "iopub.status.busy": "2022-01-09T11:51:57.005311Z",
     "iopub.status.idle": "2022-01-09T11:51:57.007671Z",
     "shell.execute_reply": "2022-01-09T11:51:57.007229Z",
     "shell.execute_reply.started": "2022-01-09T09:33:32.985485Z"
    },
    "papermill": {
     "duration": 0.036542,
     "end_time": "2022-01-09T11:51:57.007770",
     "exception": false,
     "start_time": "2022-01-09T11:51:56.971228",
     "status": "completed"
    },
    "tags": []
   },
   "outputs": [],
   "source": [
    "new_df['target']=[-1]*len(new_df)"
   ]
  },
  {
   "cell_type": "code",
   "execution_count": 13,
   "id": "e8dbe9ce",
   "metadata": {
    "execution": {
     "iopub.execute_input": "2022-01-09T11:51:57.053198Z",
     "iopub.status.busy": "2022-01-09T11:51:57.052366Z",
     "iopub.status.idle": "2022-01-09T11:51:57.055248Z",
     "shell.execute_reply": "2022-01-09T11:51:57.055647Z",
     "shell.execute_reply.started": "2022-01-09T09:33:33.012007Z"
    },
    "papermill": {
     "duration": 0.030394,
     "end_time": "2022-01-09T11:51:57.055762",
     "exception": false,
     "start_time": "2022-01-09T11:51:57.025368",
     "status": "completed"
    },
    "tags": []
   },
   "outputs": [
    {
     "data": {
      "text/html": [
       "<div>\n",
       "<style scoped>\n",
       "    .dataframe tbody tr th:only-of-type {\n",
       "        vertical-align: middle;\n",
       "    }\n",
       "\n",
       "    .dataframe tbody tr th {\n",
       "        vertical-align: top;\n",
       "    }\n",
       "\n",
       "    .dataframe thead th {\n",
       "        text-align: right;\n",
       "    }\n",
       "</style>\n",
       "<table border=\"1\" class=\"dataframe\">\n",
       "  <thead>\n",
       "    <tr style=\"text-align: right;\">\n",
       "      <th></th>\n",
       "      <th>less_toxic</th>\n",
       "      <th>more_toxic</th>\n",
       "      <th>target</th>\n",
       "    </tr>\n",
       "  </thead>\n",
       "  <tbody>\n",
       "    <tr>\n",
       "      <th>0</th>\n",
       "      <td>WHAT WHER IS YOUR SEXY PIC GONE FROM YOUR MAIN...</td>\n",
       "      <td>This article sucks woo woo wooooooo</td>\n",
       "      <td>-1</td>\n",
       "    </tr>\n",
       "    <tr>\n",
       "      <th>1</th>\n",
       "      <td>Daphne Guinness Top of the mornin my favourite...</td>\n",
       "      <td>And yes people should recognize that but they ...</td>\n",
       "      <td>-1</td>\n",
       "    </tr>\n",
       "    <tr>\n",
       "      <th>2</th>\n",
       "      <td>Atom you don t believe actual photos of mastur...</td>\n",
       "      <td>Western Media Yup because every crime in the e...</td>\n",
       "      <td>-1</td>\n",
       "    </tr>\n",
       "    <tr>\n",
       "      <th>3</th>\n",
       "      <td>You seem to have sand in your vagina Might wan...</td>\n",
       "      <td>And you removed it You numbskull I don t care ...</td>\n",
       "      <td>-1</td>\n",
       "    </tr>\n",
       "    <tr>\n",
       "      <th>4</th>\n",
       "      <td>hey way to support nazis you racist</td>\n",
       "      <td>smelly vagina Bluerasberry why don t you be a ...</td>\n",
       "      <td>-1</td>\n",
       "    </tr>\n",
       "    <tr>\n",
       "      <th>...</th>\n",
       "      <td>...</td>\n",
       "      <td>...</td>\n",
       "      <td>...</td>\n",
       "    </tr>\n",
       "    <tr>\n",
       "      <th>30103</th>\n",
       "      <td>get out my large penis</td>\n",
       "      <td>I m sorry I m not an admin I will give you thr...</td>\n",
       "      <td>-1</td>\n",
       "    </tr>\n",
       "    <tr>\n",
       "      <th>30104</th>\n",
       "      <td>get out my large penis</td>\n",
       "      <td>I m sorry I m not an admin I will give you thr...</td>\n",
       "      <td>-1</td>\n",
       "    </tr>\n",
       "    <tr>\n",
       "      <th>30105</th>\n",
       "      <td>Piss off you slant eyed gook</td>\n",
       "      <td>wow are you out of your mind how was my edit o...</td>\n",
       "      <td>-1</td>\n",
       "    </tr>\n",
       "    <tr>\n",
       "      <th>30106</th>\n",
       "      <td>Piss off you slant eyed gook</td>\n",
       "      <td>wow are you out of your mind how was my edit o...</td>\n",
       "      <td>-1</td>\n",
       "    </tr>\n",
       "    <tr>\n",
       "      <th>30107</th>\n",
       "      <td>Piss off you slant eyed gook</td>\n",
       "      <td>wow are you out of your mind how was my edit o...</td>\n",
       "      <td>-1</td>\n",
       "    </tr>\n",
       "  </tbody>\n",
       "</table>\n",
       "<p>30108 rows × 3 columns</p>\n",
       "</div>"
      ],
      "text/plain": [
       "                                              less_toxic  \\\n",
       "0      WHAT WHER IS YOUR SEXY PIC GONE FROM YOUR MAIN...   \n",
       "1      Daphne Guinness Top of the mornin my favourite...   \n",
       "2      Atom you don t believe actual photos of mastur...   \n",
       "3      You seem to have sand in your vagina Might wan...   \n",
       "4                    hey way to support nazis you racist   \n",
       "...                                                  ...   \n",
       "30103                             get out my large penis   \n",
       "30104                             get out my large penis   \n",
       "30105                       Piss off you slant eyed gook   \n",
       "30106                       Piss off you slant eyed gook   \n",
       "30107                       Piss off you slant eyed gook   \n",
       "\n",
       "                                              more_toxic  target  \n",
       "0                    This article sucks woo woo wooooooo      -1  \n",
       "1      And yes people should recognize that but they ...      -1  \n",
       "2      Western Media Yup because every crime in the e...      -1  \n",
       "3      And you removed it You numbskull I don t care ...      -1  \n",
       "4      smelly vagina Bluerasberry why don t you be a ...      -1  \n",
       "...                                                  ...     ...  \n",
       "30103  I m sorry I m not an admin I will give you thr...      -1  \n",
       "30104  I m sorry I m not an admin I will give you thr...      -1  \n",
       "30105  wow are you out of your mind how was my edit o...      -1  \n",
       "30106  wow are you out of your mind how was my edit o...      -1  \n",
       "30107  wow are you out of your mind how was my edit o...      -1  \n",
       "\n",
       "[30108 rows x 3 columns]"
      ]
     },
     "execution_count": 13,
     "metadata": {},
     "output_type": "execute_result"
    }
   ],
   "source": [
    "new_df"
   ]
  },
  {
   "cell_type": "code",
   "execution_count": 14,
   "id": "cfeab9dd",
   "metadata": {
    "execution": {
     "iopub.execute_input": "2022-01-09T11:51:57.097857Z",
     "iopub.status.busy": "2022-01-09T11:51:57.097262Z",
     "iopub.status.idle": "2022-01-09T11:51:57.108225Z",
     "shell.execute_reply": "2022-01-09T11:51:57.107769Z",
     "shell.execute_reply.started": "2022-01-09T09:33:33.034299Z"
    },
    "papermill": {
     "duration": 0.034189,
     "end_time": "2022-01-09T11:51:57.108333",
     "exception": false,
     "start_time": "2022-01-09T11:51:57.074144",
     "status": "completed"
    },
    "tags": []
   },
   "outputs": [],
   "source": [
    "data=pd.concat([data.drop(labels='worker',axis=1),new_df],axis=0)"
   ]
  },
  {
   "cell_type": "code",
   "execution_count": 15,
   "id": "f555ba6a",
   "metadata": {
    "execution": {
     "iopub.execute_input": "2022-01-09T11:51:57.150575Z",
     "iopub.status.busy": "2022-01-09T11:51:57.149754Z",
     "iopub.status.idle": "2022-01-09T11:51:57.158082Z",
     "shell.execute_reply": "2022-01-09T11:51:57.157646Z",
     "shell.execute_reply.started": "2022-01-09T09:33:33.055366Z"
    },
    "papermill": {
     "duration": 0.031685,
     "end_time": "2022-01-09T11:51:57.158191",
     "exception": false,
     "start_time": "2022-01-09T11:51:57.126506",
     "status": "completed"
    },
    "tags": []
   },
   "outputs": [
    {
     "data": {
      "text/html": [
       "<div>\n",
       "<style scoped>\n",
       "    .dataframe tbody tr th:only-of-type {\n",
       "        vertical-align: middle;\n",
       "    }\n",
       "\n",
       "    .dataframe tbody tr th {\n",
       "        vertical-align: top;\n",
       "    }\n",
       "\n",
       "    .dataframe thead th {\n",
       "        text-align: right;\n",
       "    }\n",
       "</style>\n",
       "<table border=\"1\" class=\"dataframe\">\n",
       "  <thead>\n",
       "    <tr style=\"text-align: right;\">\n",
       "      <th></th>\n",
       "      <th>less_toxic</th>\n",
       "      <th>more_toxic</th>\n",
       "      <th>target</th>\n",
       "    </tr>\n",
       "  </thead>\n",
       "  <tbody>\n",
       "    <tr>\n",
       "      <th>0</th>\n",
       "      <td>This article sucks woo woo wooooooo</td>\n",
       "      <td>WHAT WHER IS YOUR SEXY PIC GONE FROM YOUR MAIN...</td>\n",
       "      <td>1</td>\n",
       "    </tr>\n",
       "    <tr>\n",
       "      <th>1</th>\n",
       "      <td>And yes people should recognize that but they ...</td>\n",
       "      <td>Daphne Guinness Top of the mornin my favourite...</td>\n",
       "      <td>1</td>\n",
       "    </tr>\n",
       "    <tr>\n",
       "      <th>2</th>\n",
       "      <td>Western Media Yup because every crime in the e...</td>\n",
       "      <td>Atom you don t believe actual photos of mastur...</td>\n",
       "      <td>1</td>\n",
       "    </tr>\n",
       "    <tr>\n",
       "      <th>3</th>\n",
       "      <td>And you removed it You numbskull I don t care ...</td>\n",
       "      <td>You seem to have sand in your vagina Might wan...</td>\n",
       "      <td>1</td>\n",
       "    </tr>\n",
       "    <tr>\n",
       "      <th>4</th>\n",
       "      <td>smelly vagina Bluerasberry why don t you be a ...</td>\n",
       "      <td>hey way to support nazis you racist</td>\n",
       "      <td>1</td>\n",
       "    </tr>\n",
       "    <tr>\n",
       "      <th>...</th>\n",
       "      <td>...</td>\n",
       "      <td>...</td>\n",
       "      <td>...</td>\n",
       "    </tr>\n",
       "    <tr>\n",
       "      <th>30103</th>\n",
       "      <td>get out my large penis</td>\n",
       "      <td>I m sorry I m not an admin I will give you thr...</td>\n",
       "      <td>-1</td>\n",
       "    </tr>\n",
       "    <tr>\n",
       "      <th>30104</th>\n",
       "      <td>get out my large penis</td>\n",
       "      <td>I m sorry I m not an admin I will give you thr...</td>\n",
       "      <td>-1</td>\n",
       "    </tr>\n",
       "    <tr>\n",
       "      <th>30105</th>\n",
       "      <td>Piss off you slant eyed gook</td>\n",
       "      <td>wow are you out of your mind how was my edit o...</td>\n",
       "      <td>-1</td>\n",
       "    </tr>\n",
       "    <tr>\n",
       "      <th>30106</th>\n",
       "      <td>Piss off you slant eyed gook</td>\n",
       "      <td>wow are you out of your mind how was my edit o...</td>\n",
       "      <td>-1</td>\n",
       "    </tr>\n",
       "    <tr>\n",
       "      <th>30107</th>\n",
       "      <td>Piss off you slant eyed gook</td>\n",
       "      <td>wow are you out of your mind how was my edit o...</td>\n",
       "      <td>-1</td>\n",
       "    </tr>\n",
       "  </tbody>\n",
       "</table>\n",
       "<p>60216 rows × 3 columns</p>\n",
       "</div>"
      ],
      "text/plain": [
       "                                              less_toxic  \\\n",
       "0                    This article sucks woo woo wooooooo   \n",
       "1      And yes people should recognize that but they ...   \n",
       "2      Western Media Yup because every crime in the e...   \n",
       "3      And you removed it You numbskull I don t care ...   \n",
       "4      smelly vagina Bluerasberry why don t you be a ...   \n",
       "...                                                  ...   \n",
       "30103                             get out my large penis   \n",
       "30104                             get out my large penis   \n",
       "30105                       Piss off you slant eyed gook   \n",
       "30106                       Piss off you slant eyed gook   \n",
       "30107                       Piss off you slant eyed gook   \n",
       "\n",
       "                                              more_toxic  target  \n",
       "0      WHAT WHER IS YOUR SEXY PIC GONE FROM YOUR MAIN...       1  \n",
       "1      Daphne Guinness Top of the mornin my favourite...       1  \n",
       "2      Atom you don t believe actual photos of mastur...       1  \n",
       "3      You seem to have sand in your vagina Might wan...       1  \n",
       "4                    hey way to support nazis you racist       1  \n",
       "...                                                  ...     ...  \n",
       "30103  I m sorry I m not an admin I will give you thr...      -1  \n",
       "30104  I m sorry I m not an admin I will give you thr...      -1  \n",
       "30105  wow are you out of your mind how was my edit o...      -1  \n",
       "30106  wow are you out of your mind how was my edit o...      -1  \n",
       "30107  wow are you out of your mind how was my edit o...      -1  \n",
       "\n",
       "[60216 rows x 3 columns]"
      ]
     },
     "execution_count": 15,
     "metadata": {},
     "output_type": "execute_result"
    }
   ],
   "source": [
    "data"
   ]
  },
  {
   "cell_type": "code",
   "execution_count": 16,
   "id": "5a73ce5f",
   "metadata": {
    "execution": {
     "iopub.execute_input": "2022-01-09T11:51:57.210617Z",
     "iopub.status.busy": "2022-01-09T11:51:57.209859Z",
     "iopub.status.idle": "2022-01-09T11:51:57.212263Z",
     "shell.execute_reply": "2022-01-09T11:51:57.211799Z",
     "shell.execute_reply.started": "2022-01-09T09:33:33.074312Z"
    },
    "papermill": {
     "duration": 0.034167,
     "end_time": "2022-01-09T11:51:57.212365",
     "exception": false,
     "start_time": "2022-01-09T11:51:57.178198",
     "status": "completed"
    },
    "tags": []
   },
   "outputs": [],
   "source": [
    "data['Fold']=[None]*len(data)"
   ]
  },
  {
   "cell_type": "code",
   "execution_count": 17,
   "id": "00e52c66",
   "metadata": {
    "execution": {
     "iopub.execute_input": "2022-01-09T11:51:57.254116Z",
     "iopub.status.busy": "2022-01-09T11:51:57.253444Z",
     "iopub.status.idle": "2022-01-09T11:51:57.263557Z",
     "shell.execute_reply": "2022-01-09T11:51:57.264244Z",
     "shell.execute_reply.started": "2022-01-09T09:33:33.094708Z"
    },
    "papermill": {
     "duration": 0.033613,
     "end_time": "2022-01-09T11:51:57.264402",
     "exception": false,
     "start_time": "2022-01-09T11:51:57.230789",
     "status": "completed"
    },
    "tags": []
   },
   "outputs": [
    {
     "name": "stderr",
     "output_type": "stream",
     "text": [
      "/opt/conda/lib/python3.7/site-packages/pandas/core/indexing.py:1732: SettingWithCopyWarning: \n",
      "A value is trying to be set on a copy of a slice from a DataFrame\n",
      "\n",
      "See the caveats in the documentation: https://pandas.pydata.org/pandas-docs/stable/user_guide/indexing.html#returning-a-view-versus-a-copy\n",
      "  self._setitem_single_block(indexer, value, name)\n"
     ]
    }
   ],
   "source": [
    "kfold = KFold(5)\n",
    "count=0\n",
    "for i,j in kfold.split(data):\n",
    "    data['Fold'].iloc[j]=count\n",
    "    count=count+1"
   ]
  },
  {
   "cell_type": "code",
   "execution_count": 18,
   "id": "6327e359",
   "metadata": {
    "execution": {
     "iopub.execute_input": "2022-01-09T11:51:57.305910Z",
     "iopub.status.busy": "2022-01-09T11:51:57.305137Z",
     "iopub.status.idle": "2022-01-09T11:51:57.310989Z",
     "shell.execute_reply": "2022-01-09T11:51:57.311399Z",
     "shell.execute_reply.started": "2022-01-09T09:33:33.114848Z"
    },
    "papermill": {
     "duration": 0.027354,
     "end_time": "2022-01-09T11:51:57.311513",
     "exception": false,
     "start_time": "2022-01-09T11:51:57.284159",
     "status": "completed"
    },
    "tags": []
   },
   "outputs": [],
   "source": [
    "def data_generator(data,fold):\n",
    "    train_data=data[data['Fold']!=fold]\n",
    "    valid_data=data[data['Fold']!=fold]\n",
    "    tokenizer=AutoTokenizer.from_pretrained(params['BERT_MODEL'])\n",
    "    train_dataset=jigsaw_dataset(train_data,tokenizer)\n",
    "    valid_dataset=jigsaw_dataset(valid_data,tokenizer)\n",
    "    train_loader = DataLoader(train_dataset, batch_size=params['train_batch_size'], \n",
    "                              num_workers=2, shuffle=True, pin_memory=True, drop_last=True)\n",
    "    valid_loader = DataLoader(valid_dataset, batch_size=params['valid_batch_size'], \n",
    "                              num_workers=2, shuffle=False, pin_memory=True)\n",
    "    return train_loader,valid_loader"
   ]
  },
  {
   "cell_type": "code",
   "execution_count": 19,
   "id": "13d42ae0",
   "metadata": {
    "execution": {
     "iopub.execute_input": "2022-01-09T11:51:57.353923Z",
     "iopub.status.busy": "2022-01-09T11:51:57.353349Z",
     "iopub.status.idle": "2022-01-09T11:51:57.355683Z",
     "shell.execute_reply": "2022-01-09T11:51:57.356155Z",
     "shell.execute_reply.started": "2022-01-09T09:33:33.126514Z"
    },
    "papermill": {
     "duration": 0.025732,
     "end_time": "2022-01-09T11:51:57.356294",
     "exception": false,
     "start_time": "2022-01-09T11:51:57.330562",
     "status": "completed"
    },
    "tags": []
   },
   "outputs": [],
   "source": [
    "def calculate_accuracy(more_toxic,less_toxic,target):\n",
    "    preds=[]\n",
    "    for i in range(len(more_toxic)):\n",
    "        if more_toxic[i]>less_toxic[i]:\n",
    "            preds.append(1)\n",
    "        else:\n",
    "            preds.append(-1)\n",
    "    preds=np.array(preds)\n",
    "    return accuracy_score(target,preds)"
   ]
  },
  {
   "cell_type": "code",
   "execution_count": 20,
   "id": "0fcc1f77",
   "metadata": {
    "execution": {
     "iopub.execute_input": "2022-01-09T11:51:57.401935Z",
     "iopub.status.busy": "2022-01-09T11:51:57.401309Z",
     "iopub.status.idle": "2022-01-09T11:51:57.404063Z",
     "shell.execute_reply": "2022-01-09T11:51:57.403596Z",
     "shell.execute_reply.started": "2022-01-09T09:33:33.140425Z"
    },
    "papermill": {
     "duration": 0.028855,
     "end_time": "2022-01-09T11:51:57.404179",
     "exception": false,
     "start_time": "2022-01-09T11:51:57.375324",
     "status": "completed"
    },
    "tags": []
   },
   "outputs": [],
   "source": [
    "def train_one_epoch(train_dataloader,model,optimizer,device):\n",
    "    model.train()\n",
    "    bar = tqdm(train_dataloader)\n",
    "    running_loss=0\n",
    "    running_accuracy=0\n",
    "    for count,data in enumerate(bar):\n",
    "        optimizer.zero_grad()\n",
    "        more_toxic_ids =data['More_toxic_id'].to(device, torch.long)\n",
    "        more_toxic_mask =data['More_toxic_mask'].to(device, torch.long)\n",
    "        less_toxic_ids =data['Less_toxic_id'].to(device, torch.long)\n",
    "        less_toxic_mask =data['Less_toxic_mask'].to(device, torch.long)\n",
    "        target =data['Target'].to(device, torch.long)\n",
    "        more_toxic_out=model(more_toxic_ids,more_toxic_mask)\n",
    "        less_toxic_out=model(less_toxic_ids,less_toxic_mask)\n",
    "        loss=criterion(more_toxic_out,less_toxic_out,target)\n",
    "        loss.backward()\n",
    "        optimizer.step()\n",
    "        running_loss=running_loss+loss.item()\n",
    "        #running_accuracy =running_accuracy+calculate_accuracy(more_toxic_out,less_toxic_out,target)\n",
    "    final_loss = running_loss/len(train_dataloader)\n",
    "    gc.collect()\n",
    "    return final_loss"
   ]
  },
  {
   "cell_type": "code",
   "execution_count": 21,
   "id": "6f3039ea",
   "metadata": {
    "execution": {
     "iopub.execute_input": "2022-01-09T11:51:57.448848Z",
     "iopub.status.busy": "2022-01-09T11:51:57.448166Z",
     "iopub.status.idle": "2022-01-09T11:51:57.450739Z",
     "shell.execute_reply": "2022-01-09T11:51:57.450293Z",
     "shell.execute_reply.started": "2022-01-09T09:33:33.154540Z"
    },
    "papermill": {
     "duration": 0.027793,
     "end_time": "2022-01-09T11:51:57.450857",
     "exception": false,
     "start_time": "2022-01-09T11:51:57.423064",
     "status": "completed"
    },
    "tags": []
   },
   "outputs": [],
   "source": [
    "def validate_model(valid_dataloader,model,device):\n",
    "    model.eval()\n",
    "    bar=tqdm(valid_dataloader)\n",
    "    running_loss=0\n",
    "    for count,data in enumerate(bar):\n",
    "        more_toxic_ids =data['More_toxic_id'].to(device, torch.long)\n",
    "        more_toxic_mask =data['More_toxic_mask'].to(device, torch.long)\n",
    "        less_toxic_ids =data['Less_toxic_id'].to(device, torch.long)\n",
    "        less_toxic_mask =data['Less_toxic_mask'].to(device, torch.long)\n",
    "        target =data['Target'].to(device, torch.long)\n",
    "        more_toxic_out=model(more_toxic_ids,more_toxic_mask)\n",
    "        less_toxic_out=model(less_toxic_ids,less_toxic_mask)\n",
    "        loss=criterion(more_toxic_out,less_toxic_out,target)\n",
    "        running_loss=running_loss+loss.item()\n",
    "\n",
    "    final_loss = running_loss/len(valid_dataloader)\n",
    "    gc.collect()\n",
    "    return final_loss\n",
    "    "
   ]
  },
  {
   "cell_type": "code",
   "execution_count": 22,
   "id": "17361ba5",
   "metadata": {
    "execution": {
     "iopub.execute_input": "2022-01-09T11:51:57.491418Z",
     "iopub.status.busy": "2022-01-09T11:51:57.490637Z",
     "iopub.status.idle": "2022-01-09T11:51:57.498142Z",
     "shell.execute_reply": "2022-01-09T11:51:57.497692Z",
     "shell.execute_reply.started": "2022-01-09T09:33:33.172031Z"
    },
    "papermill": {
     "duration": 0.028487,
     "end_time": "2022-01-09T11:51:57.498244",
     "exception": false,
     "start_time": "2022-01-09T11:51:57.469757",
     "status": "completed"
    },
    "tags": []
   },
   "outputs": [],
   "source": [
    "def get_accuracy(dataloader,model):\n",
    "    model.eval()\n",
    "    bar=tqdm(dataloader)\n",
    "    running_accuracy=0\n",
    "    for count,data in enumerate(bar):\n",
    "        more_toxic_ids =data['More_toxic_id'].to(device, torch.long)\n",
    "        more_toxic_mask =data['More_toxic_mask'].to(device, torch.long)\n",
    "        less_toxic_ids =data['Less_toxic_id'].to(device, torch.long)\n",
    "        less_toxic_mask =data['Less_toxic_mask'].to(device, torch.long)\n",
    "        target =data['Target']\n",
    "        more_toxic_out=model(more_toxic_ids,more_toxic_mask)\n",
    "        less_toxic_out=model(less_toxic_ids,less_toxic_mask)\n",
    "        more_toxic_out=more_toxic_out.cpu().data.numpy()\n",
    "        less_toxic_out=less_toxic_out.cpu().data.numpy()\n",
    "        target=target.detach().numpy()\n",
    "        accuracy=calculate_accuracy(more_toxic_out,less_toxic_out,target)\n",
    "        running_accuracy+=accuracy\n",
    "        gc.collect()\n",
    "    return running_accuracy/len(dataloader)\n",
    "        "
   ]
  },
  {
   "cell_type": "code",
   "execution_count": 23,
   "id": "6e00410f",
   "metadata": {
    "execution": {
     "iopub.execute_input": "2022-01-09T11:51:57.552772Z",
     "iopub.status.busy": "2022-01-09T11:51:57.542876Z",
     "iopub.status.idle": "2022-01-09T11:52:00.857965Z",
     "shell.execute_reply": "2022-01-09T11:52:00.857429Z",
     "shell.execute_reply.started": "2022-01-09T09:33:33.184212Z"
    },
    "papermill": {
     "duration": 3.340555,
     "end_time": "2022-01-09T11:52:00.858098",
     "exception": false,
     "start_time": "2022-01-09T11:51:57.517543",
     "status": "completed"
    },
    "tags": []
   },
   "outputs": [],
   "source": [
    "!mkdir FOLD-0\n",
    "!mkdir FOLD-1\n",
    "!mkdir FOLD-2\n",
    "!mkdir FOLD-3\n",
    "!mkdir FOLD-4"
   ]
  },
  {
   "cell_type": "code",
   "execution_count": 24,
   "id": "328afc27",
   "metadata": {
    "execution": {
     "iopub.execute_input": "2022-01-09T11:52:00.899988Z",
     "iopub.status.busy": "2022-01-09T11:52:00.899191Z",
     "iopub.status.idle": "2022-01-09T11:52:00.907390Z",
     "shell.execute_reply": "2022-01-09T11:52:00.907822Z",
     "shell.execute_reply.started": "2022-01-09T09:33:37.163209Z"
    },
    "papermill": {
     "duration": 0.030597,
     "end_time": "2022-01-09T11:52:00.907977",
     "exception": false,
     "start_time": "2022-01-09T11:52:00.877380",
     "status": "completed"
    },
    "tags": []
   },
   "outputs": [],
   "source": [
    "def run_training(epochs=2):\n",
    "    start = time.time()\n",
    "    best_epoch_loss = np.inf\n",
    "    history = defaultdict(list)\n",
    "    #model=BERT_Baseline(params['BERT_MODEL'])\n",
    "    model=BERT_Baseline(params['BERT_MODEL'])\n",
    "    model.to(device)\n",
    "    optimizer = AdamW(model.parameters(), lr=params['learning_rate'], weight_decay=params['weight_decay'])\n",
    "    for i in range(5):\n",
    "        train,valid=data_generator(data,i)\n",
    "        model=BERT_Baseline(params['BERT_MODEL'])\n",
    "        model.to(device)\n",
    "        print('FOLD:'+str(i))\n",
    "        for j in range(epochs):\n",
    "            print('epoch:'+str(j))\n",
    "            train_loss=train_one_epoch(train,model,optimizer,device)\n",
    "            valid_loss=validate_model(valid,model,device)\n",
    "            print('Train_loss:'+str(train_loss))\n",
    "            print('valid_loss:'+str(valid_loss))\n",
    "\n",
    "        torch.save(model.state_dict(),\"FOLD-\"+str(i)+'/weight.pt')\n",
    "            \n",
    "            \n",
    "             "
   ]
  },
  {
   "cell_type": "code",
   "execution_count": 25,
   "id": "309e9c7c",
   "metadata": {
    "execution": {
     "iopub.execute_input": "2022-01-09T11:52:00.948464Z",
     "iopub.status.busy": "2022-01-09T11:52:00.947674Z",
     "iopub.status.idle": "2022-01-09T20:34:59.135083Z",
     "shell.execute_reply": "2022-01-09T20:34:59.134575Z"
    },
    "papermill": {
     "duration": 31378.208355,
     "end_time": "2022-01-09T20:34:59.135232",
     "exception": false,
     "start_time": "2022-01-09T11:52:00.926877",
     "status": "completed"
    },
    "tags": []
   },
   "outputs": [
    {
     "data": {
      "application/vnd.jupyter.widget-view+json": {
       "model_id": "c1a769326a814cfa8b9c1f8e94555342",
       "version_major": 2,
       "version_minor": 0
      },
      "text/plain": [
       "Downloading:   0%|          | 0.00/481 [00:00<?, ?B/s]"
      ]
     },
     "metadata": {},
     "output_type": "display_data"
    },
    {
     "data": {
      "application/vnd.jupyter.widget-view+json": {
       "model_id": "81c7f0e26f354f3b8bff3eaa571d452f",
       "version_major": 2,
       "version_minor": 0
      },
      "text/plain": [
       "Downloading:   0%|          | 0.00/478M [00:00<?, ?B/s]"
      ]
     },
     "metadata": {},
     "output_type": "display_data"
    },
    {
     "name": "stderr",
     "output_type": "stream",
     "text": [
      "Some weights of the model checkpoint at roberta-base were not used when initializing RobertaModel: ['lm_head.decoder.weight', 'lm_head.bias', 'lm_head.layer_norm.weight', 'lm_head.layer_norm.bias', 'lm_head.dense.bias', 'lm_head.dense.weight']\n",
      "- This IS expected if you are initializing RobertaModel from the checkpoint of a model trained on another task or with another architecture (e.g. initializing a BertForSequenceClassification model from a BertForPreTraining model).\n",
      "- This IS NOT expected if you are initializing RobertaModel from the checkpoint of a model that you expect to be exactly identical (initializing a BertForSequenceClassification model from a BertForSequenceClassification model).\n"
     ]
    },
    {
     "data": {
      "application/vnd.jupyter.widget-view+json": {
       "model_id": "55cc4d43bb674315a2fd5e6b917cdcf4",
       "version_major": 2,
       "version_minor": 0
      },
      "text/plain": [
       "Downloading:   0%|          | 0.00/878k [00:00<?, ?B/s]"
      ]
     },
     "metadata": {},
     "output_type": "display_data"
    },
    {
     "data": {
      "application/vnd.jupyter.widget-view+json": {
       "model_id": "e28095004c8445bdb5bc30436e139bcb",
       "version_major": 2,
       "version_minor": 0
      },
      "text/plain": [
       "Downloading:   0%|          | 0.00/446k [00:00<?, ?B/s]"
      ]
     },
     "metadata": {},
     "output_type": "display_data"
    },
    {
     "data": {
      "application/vnd.jupyter.widget-view+json": {
       "model_id": "d756ef3d413448d990aacf3fd56ad38b",
       "version_major": 2,
       "version_minor": 0
      },
      "text/plain": [
       "Downloading:   0%|          | 0.00/1.29M [00:00<?, ?B/s]"
      ]
     },
     "metadata": {},
     "output_type": "display_data"
    },
    {
     "name": "stderr",
     "output_type": "stream",
     "text": [
      "Some weights of the model checkpoint at roberta-base were not used when initializing RobertaModel: ['lm_head.decoder.weight', 'lm_head.bias', 'lm_head.layer_norm.weight', 'lm_head.layer_norm.bias', 'lm_head.dense.bias', 'lm_head.dense.weight']\n",
      "- This IS expected if you are initializing RobertaModel from the checkpoint of a model trained on another task or with another architecture (e.g. initializing a BertForSequenceClassification model from a BertForPreTraining model).\n",
      "- This IS NOT expected if you are initializing RobertaModel from the checkpoint of a model that you expect to be exactly identical (initializing a BertForSequenceClassification model from a BertForSequenceClassification model).\n"
     ]
    },
    {
     "name": "stdout",
     "output_type": "stream",
     "text": [
      "FOLD:0\n",
      "epoch:0\n"
     ]
    },
    {
     "name": "stderr",
     "output_type": "stream",
     "text": [
      "100%|██████████| 3010/3010 [38:19<00:00,  1.31it/s]\n",
      "100%|██████████| 6022/6022 [13:44<00:00,  7.30it/s]\n"
     ]
    },
    {
     "name": "stdout",
     "output_type": "stream",
     "text": [
      "Train_loss:0.49759755822709234\n",
      "valid_loss:0.4985303106655595\n",
      "epoch:1\n"
     ]
    },
    {
     "name": "stderr",
     "output_type": "stream",
     "text": [
      "100%|██████████| 3010/3010 [38:21<00:00,  1.31it/s]\n",
      "100%|██████████| 6022/6022 [13:53<00:00,  7.23it/s]\n"
     ]
    },
    {
     "name": "stdout",
     "output_type": "stream",
     "text": [
      "Train_loss:0.4976530075073242\n",
      "valid_loss:0.4985303106655595\n"
     ]
    },
    {
     "name": "stderr",
     "output_type": "stream",
     "text": [
      "Some weights of the model checkpoint at roberta-base were not used when initializing RobertaModel: ['lm_head.decoder.weight', 'lm_head.bias', 'lm_head.layer_norm.weight', 'lm_head.layer_norm.bias', 'lm_head.dense.bias', 'lm_head.dense.weight']\n",
      "- This IS expected if you are initializing RobertaModel from the checkpoint of a model trained on another task or with another architecture (e.g. initializing a BertForSequenceClassification model from a BertForPreTraining model).\n",
      "- This IS NOT expected if you are initializing RobertaModel from the checkpoint of a model that you expect to be exactly identical (initializing a BertForSequenceClassification model from a BertForSequenceClassification model).\n"
     ]
    },
    {
     "name": "stdout",
     "output_type": "stream",
     "text": [
      "FOLD:1\n",
      "epoch:0\n"
     ]
    },
    {
     "name": "stderr",
     "output_type": "stream",
     "text": [
      "100%|██████████| 3010/3010 [38:22<00:00,  1.31it/s]\n",
      "100%|██████████| 6022/6022 [13:53<00:00,  7.23it/s]\n"
     ]
    },
    {
     "name": "stdout",
     "output_type": "stream",
     "text": [
      "Train_loss:0.4984000516492267\n",
      "valid_loss:0.49862596233771594\n",
      "epoch:1\n"
     ]
    },
    {
     "name": "stderr",
     "output_type": "stream",
     "text": [
      "100%|██████████| 3010/3010 [38:23<00:00,  1.31it/s]\n",
      "100%|██████████| 6022/6022 [13:53<00:00,  7.22it/s]\n"
     ]
    },
    {
     "name": "stdout",
     "output_type": "stream",
     "text": [
      "Train_loss:0.4985119467953907\n",
      "valid_loss:0.49862596233771594\n"
     ]
    },
    {
     "name": "stderr",
     "output_type": "stream",
     "text": [
      "Some weights of the model checkpoint at roberta-base were not used when initializing RobertaModel: ['lm_head.decoder.weight', 'lm_head.bias', 'lm_head.layer_norm.weight', 'lm_head.layer_norm.bias', 'lm_head.dense.bias', 'lm_head.dense.weight']\n",
      "- This IS expected if you are initializing RobertaModel from the checkpoint of a model trained on another task or with another architecture (e.g. initializing a BertForSequenceClassification model from a BertForPreTraining model).\n",
      "- This IS NOT expected if you are initializing RobertaModel from the checkpoint of a model that you expect to be exactly identical (initializing a BertForSequenceClassification model from a BertForSequenceClassification model).\n"
     ]
    },
    {
     "name": "stdout",
     "output_type": "stream",
     "text": [
      "FOLD:2\n",
      "epoch:0\n"
     ]
    },
    {
     "name": "stderr",
     "output_type": "stream",
     "text": [
      "100%|██████████| 3010/3010 [38:22<00:00,  1.31it/s]\n",
      "100%|██████████| 6022/6022 [13:49<00:00,  7.26it/s]\n"
     ]
    },
    {
     "name": "stdout",
     "output_type": "stream",
     "text": [
      "Train_loss:0.4999754345496232\n",
      "valid_loss:0.49931988038422065\n",
      "epoch:1\n"
     ]
    },
    {
     "name": "stderr",
     "output_type": "stream",
     "text": [
      "100%|██████████| 3010/3010 [38:20<00:00,  1.31it/s]\n",
      "100%|██████████| 6022/6022 [13:47<00:00,  7.28it/s]\n"
     ]
    },
    {
     "name": "stdout",
     "output_type": "stream",
     "text": [
      "Train_loss:0.5000387864156419\n",
      "valid_loss:0.49931988038422065\n"
     ]
    },
    {
     "name": "stderr",
     "output_type": "stream",
     "text": [
      "Some weights of the model checkpoint at roberta-base were not used when initializing RobertaModel: ['lm_head.decoder.weight', 'lm_head.bias', 'lm_head.layer_norm.weight', 'lm_head.layer_norm.bias', 'lm_head.dense.bias', 'lm_head.dense.weight']\n",
      "- This IS expected if you are initializing RobertaModel from the checkpoint of a model trained on another task or with another architecture (e.g. initializing a BertForSequenceClassification model from a BertForPreTraining model).\n",
      "- This IS NOT expected if you are initializing RobertaModel from the checkpoint of a model that you expect to be exactly identical (initializing a BertForSequenceClassification model from a BertForSequenceClassification model).\n"
     ]
    },
    {
     "name": "stdout",
     "output_type": "stream",
     "text": [
      "FOLD:3\n",
      "epoch:0\n"
     ]
    },
    {
     "name": "stderr",
     "output_type": "stream",
     "text": [
      "100%|██████████| 3010/3010 [38:20<00:00,  1.31it/s]\n",
      "100%|██████████| 6022/6022 [13:49<00:00,  7.26it/s]\n"
     ]
    },
    {
     "name": "stdout",
     "output_type": "stream",
     "text": [
      "Train_loss:0.5002215297119166\n",
      "valid_loss:0.5014765857808893\n",
      "epoch:1\n"
     ]
    },
    {
     "name": "stderr",
     "output_type": "stream",
     "text": [
      "100%|██████████| 3010/3010 [38:21<00:00,  1.31it/s]\n",
      "100%|██████████| 6022/6022 [13:45<00:00,  7.30it/s]\n"
     ]
    },
    {
     "name": "stdout",
     "output_type": "stream",
     "text": [
      "Train_loss:0.4997791439591848\n",
      "valid_loss:0.5014765857808893\n"
     ]
    },
    {
     "name": "stderr",
     "output_type": "stream",
     "text": [
      "Some weights of the model checkpoint at roberta-base were not used when initializing RobertaModel: ['lm_head.decoder.weight', 'lm_head.bias', 'lm_head.layer_norm.weight', 'lm_head.layer_norm.bias', 'lm_head.dense.bias', 'lm_head.dense.weight']\n",
      "- This IS expected if you are initializing RobertaModel from the checkpoint of a model trained on another task or with another architecture (e.g. initializing a BertForSequenceClassification model from a BertForPreTraining model).\n",
      "- This IS NOT expected if you are initializing RobertaModel from the checkpoint of a model that you expect to be exactly identical (initializing a BertForSequenceClassification model from a BertForSequenceClassification model).\n"
     ]
    },
    {
     "name": "stdout",
     "output_type": "stream",
     "text": [
      "FOLD:4\n",
      "epoch:0\n"
     ]
    },
    {
     "name": "stderr",
     "output_type": "stream",
     "text": [
      "100%|██████████| 3010/3010 [38:21<00:00,  1.31it/s]\n",
      "100%|██████████| 6022/6022 [13:46<00:00,  7.28it/s]\n"
     ]
    },
    {
     "name": "stdout",
     "output_type": "stream",
     "text": [
      "Train_loss:0.49979803134436623\n",
      "valid_loss:0.5018906398385278\n",
      "epoch:1\n"
     ]
    },
    {
     "name": "stderr",
     "output_type": "stream",
     "text": [
      "100%|██████████| 3010/3010 [38:22<00:00,  1.31it/s]\n",
      "100%|██████████| 6022/6022 [13:47<00:00,  7.28it/s]\n"
     ]
    },
    {
     "name": "stdout",
     "output_type": "stream",
     "text": [
      "Train_loss:0.4995355465780461\n",
      "valid_loss:0.5018906398385278\n"
     ]
    }
   ],
   "source": [
    "\n",
    "run_training()"
   ]
  }
 ],
 "metadata": {
  "kernelspec": {
   "display_name": "Python 3",
   "language": "python",
   "name": "python3"
  },
  "language_info": {
   "codemirror_mode": {
    "name": "ipython",
    "version": 3
   },
   "file_extension": ".py",
   "mimetype": "text/x-python",
   "name": "python",
   "nbconvert_exporter": "python",
   "pygments_lexer": "ipython3",
   "version": "3.7.12"
  },
  "papermill": {
   "default_parameters": {},
   "duration": 31444.662992,
   "end_time": "2022-01-09T20:35:26.703025",
   "environment_variables": {},
   "exception": null,
   "input_path": "__notebook__.ipynb",
   "output_path": "__notebook__.ipynb",
   "parameters": {},
   "start_time": "2022-01-09T11:51:22.040033",
   "version": "2.3.3"
  },
  "widgets": {
   "application/vnd.jupyter.widget-state+json": {
    "state": {
     "004a722f6e6b4e43a688afb49096b95e": {
      "model_module": "@jupyter-widgets/base",
      "model_module_version": "1.2.0",
      "model_name": "LayoutModel",
      "state": {
       "_model_module": "@jupyter-widgets/base",
       "_model_module_version": "1.2.0",
       "_model_name": "LayoutModel",
       "_view_count": null,
       "_view_module": "@jupyter-widgets/base",
       "_view_module_version": "1.2.0",
       "_view_name": "LayoutView",
       "align_content": null,
       "align_items": null,
       "align_self": null,
       "border": null,
       "bottom": null,
       "display": null,
       "flex": null,
       "flex_flow": null,
       "grid_area": null,
       "grid_auto_columns": null,
       "grid_auto_flow": null,
       "grid_auto_rows": null,
       "grid_column": null,
       "grid_gap": null,
       "grid_row": null,
       "grid_template_areas": null,
       "grid_template_columns": null,
       "grid_template_rows": null,
       "height": null,
       "justify_content": null,
       "justify_items": null,
       "left": null,
       "margin": null,
       "max_height": null,
       "max_width": null,
       "min_height": null,
       "min_width": null,
       "object_fit": null,
       "object_position": null,
       "order": null,
       "overflow": null,
       "overflow_x": null,
       "overflow_y": null,
       "padding": null,
       "right": null,
       "top": null,
       "visibility": null,
       "width": null
      }
     },
     "026d5c4146514b4686bcb56c7c6e3646": {
      "model_module": "@jupyter-widgets/base",
      "model_module_version": "1.2.0",
      "model_name": "LayoutModel",
      "state": {
       "_model_module": "@jupyter-widgets/base",
       "_model_module_version": "1.2.0",
       "_model_name": "LayoutModel",
       "_view_count": null,
       "_view_module": "@jupyter-widgets/base",
       "_view_module_version": "1.2.0",
       "_view_name": "LayoutView",
       "align_content": null,
       "align_items": null,
       "align_self": null,
       "border": null,
       "bottom": null,
       "display": null,
       "flex": null,
       "flex_flow": null,
       "grid_area": null,
       "grid_auto_columns": null,
       "grid_auto_flow": null,
       "grid_auto_rows": null,
       "grid_column": null,
       "grid_gap": null,
       "grid_row": null,
       "grid_template_areas": null,
       "grid_template_columns": null,
       "grid_template_rows": null,
       "height": null,
       "justify_content": null,
       "justify_items": null,
       "left": null,
       "margin": null,
       "max_height": null,
       "max_width": null,
       "min_height": null,
       "min_width": null,
       "object_fit": null,
       "object_position": null,
       "order": null,
       "overflow": null,
       "overflow_x": null,
       "overflow_y": null,
       "padding": null,
       "right": null,
       "top": null,
       "visibility": null,
       "width": null
      }
     },
     "027daacbe49d48c7a538abbb4cf218d2": {
      "model_module": "@jupyter-widgets/controls",
      "model_module_version": "1.5.0",
      "model_name": "HTMLModel",
      "state": {
       "_dom_classes": [],
       "_model_module": "@jupyter-widgets/controls",
       "_model_module_version": "1.5.0",
       "_model_name": "HTMLModel",
       "_view_count": null,
       "_view_module": "@jupyter-widgets/controls",
       "_view_module_version": "1.5.0",
       "_view_name": "HTMLView",
       "description": "",
       "description_tooltip": null,
       "layout": "IPY_MODEL_9bb1fa9abbec42e5afae2318fa43fd37",
       "placeholder": "​",
       "style": "IPY_MODEL_b34844bd29334c61894a2086a2141c3f",
       "value": " 1.29M/1.29M [00:00&lt;00:00, 3.65MB/s]"
      }
     },
     "03c391a190074b68860f90e35a88fae2": {
      "model_module": "@jupyter-widgets/base",
      "model_module_version": "1.2.0",
      "model_name": "LayoutModel",
      "state": {
       "_model_module": "@jupyter-widgets/base",
       "_model_module_version": "1.2.0",
       "_model_name": "LayoutModel",
       "_view_count": null,
       "_view_module": "@jupyter-widgets/base",
       "_view_module_version": "1.2.0",
       "_view_name": "LayoutView",
       "align_content": null,
       "align_items": null,
       "align_self": null,
       "border": null,
       "bottom": null,
       "display": null,
       "flex": null,
       "flex_flow": null,
       "grid_area": null,
       "grid_auto_columns": null,
       "grid_auto_flow": null,
       "grid_auto_rows": null,
       "grid_column": null,
       "grid_gap": null,
       "grid_row": null,
       "grid_template_areas": null,
       "grid_template_columns": null,
       "grid_template_rows": null,
       "height": null,
       "justify_content": null,
       "justify_items": null,
       "left": null,
       "margin": null,
       "max_height": null,
       "max_width": null,
       "min_height": null,
       "min_width": null,
       "object_fit": null,
       "object_position": null,
       "order": null,
       "overflow": null,
       "overflow_x": null,
       "overflow_y": null,
       "padding": null,
       "right": null,
       "top": null,
       "visibility": null,
       "width": null
      }
     },
     "11e75f075ca34f2abc9f9964eeeee4a2": {
      "model_module": "@jupyter-widgets/base",
      "model_module_version": "1.2.0",
      "model_name": "LayoutModel",
      "state": {
       "_model_module": "@jupyter-widgets/base",
       "_model_module_version": "1.2.0",
       "_model_name": "LayoutModel",
       "_view_count": null,
       "_view_module": "@jupyter-widgets/base",
       "_view_module_version": "1.2.0",
       "_view_name": "LayoutView",
       "align_content": null,
       "align_items": null,
       "align_self": null,
       "border": null,
       "bottom": null,
       "display": null,
       "flex": null,
       "flex_flow": null,
       "grid_area": null,
       "grid_auto_columns": null,
       "grid_auto_flow": null,
       "grid_auto_rows": null,
       "grid_column": null,
       "grid_gap": null,
       "grid_row": null,
       "grid_template_areas": null,
       "grid_template_columns": null,
       "grid_template_rows": null,
       "height": null,
       "justify_content": null,
       "justify_items": null,
       "left": null,
       "margin": null,
       "max_height": null,
       "max_width": null,
       "min_height": null,
       "min_width": null,
       "object_fit": null,
       "object_position": null,
       "order": null,
       "overflow": null,
       "overflow_x": null,
       "overflow_y": null,
       "padding": null,
       "right": null,
       "top": null,
       "visibility": null,
       "width": null
      }
     },
     "12ca74d7cc5c4f81aa8e1359c7c345e5": {
      "model_module": "@jupyter-widgets/controls",
      "model_module_version": "1.5.0",
      "model_name": "FloatProgressModel",
      "state": {
       "_dom_classes": [],
       "_model_module": "@jupyter-widgets/controls",
       "_model_module_version": "1.5.0",
       "_model_name": "FloatProgressModel",
       "_view_count": null,
       "_view_module": "@jupyter-widgets/controls",
       "_view_module_version": "1.5.0",
       "_view_name": "ProgressView",
       "bar_style": "success",
       "description": "",
       "description_tooltip": null,
       "layout": "IPY_MODEL_cad224d00b46414ba215f0893e79dfe3",
       "max": 1355863.0,
       "min": 0.0,
       "orientation": "horizontal",
       "style": "IPY_MODEL_18893fc24fc844498040225a03f07fe2",
       "value": 1355863.0
      }
     },
     "15c331191ad6411a9bf18ad7507d0a0e": {
      "model_module": "@jupyter-widgets/controls",
      "model_module_version": "1.5.0",
      "model_name": "ProgressStyleModel",
      "state": {
       "_model_module": "@jupyter-widgets/controls",
       "_model_module_version": "1.5.0",
       "_model_name": "ProgressStyleModel",
       "_view_count": null,
       "_view_module": "@jupyter-widgets/base",
       "_view_module_version": "1.2.0",
       "_view_name": "StyleView",
       "bar_color": null,
       "description_width": ""
      }
     },
     "18893fc24fc844498040225a03f07fe2": {
      "model_module": "@jupyter-widgets/controls",
      "model_module_version": "1.5.0",
      "model_name": "ProgressStyleModel",
      "state": {
       "_model_module": "@jupyter-widgets/controls",
       "_model_module_version": "1.5.0",
       "_model_name": "ProgressStyleModel",
       "_view_count": null,
       "_view_module": "@jupyter-widgets/base",
       "_view_module_version": "1.2.0",
       "_view_name": "StyleView",
       "bar_color": null,
       "description_width": ""
      }
     },
     "1bb87168f9f141999893d3147bacd927": {
      "model_module": "@jupyter-widgets/controls",
      "model_module_version": "1.5.0",
      "model_name": "HTMLModel",
      "state": {
       "_dom_classes": [],
       "_model_module": "@jupyter-widgets/controls",
       "_model_module_version": "1.5.0",
       "_model_name": "HTMLModel",
       "_view_count": null,
       "_view_module": "@jupyter-widgets/controls",
       "_view_module_version": "1.5.0",
       "_view_name": "HTMLView",
       "description": "",
       "description_tooltip": null,
       "layout": "IPY_MODEL_2f6f4f8c9ba34fcd8db1bcf9b1d222c5",
       "placeholder": "​",
       "style": "IPY_MODEL_b25089f21c4f41aa9d6cc90862f9f771",
       "value": "Downloading: 100%"
      }
     },
     "1c2ce88547534fd5b432b1e116ec6a9c": {
      "model_module": "@jupyter-widgets/base",
      "model_module_version": "1.2.0",
      "model_name": "LayoutModel",
      "state": {
       "_model_module": "@jupyter-widgets/base",
       "_model_module_version": "1.2.0",
       "_model_name": "LayoutModel",
       "_view_count": null,
       "_view_module": "@jupyter-widgets/base",
       "_view_module_version": "1.2.0",
       "_view_name": "LayoutView",
       "align_content": null,
       "align_items": null,
       "align_self": null,
       "border": null,
       "bottom": null,
       "display": null,
       "flex": null,
       "flex_flow": null,
       "grid_area": null,
       "grid_auto_columns": null,
       "grid_auto_flow": null,
       "grid_auto_rows": null,
       "grid_column": null,
       "grid_gap": null,
       "grid_row": null,
       "grid_template_areas": null,
       "grid_template_columns": null,
       "grid_template_rows": null,
       "height": null,
       "justify_content": null,
       "justify_items": null,
       "left": null,
       "margin": null,
       "max_height": null,
       "max_width": null,
       "min_height": null,
       "min_width": null,
       "object_fit": null,
       "object_position": null,
       "order": null,
       "overflow": null,
       "overflow_x": null,
       "overflow_y": null,
       "padding": null,
       "right": null,
       "top": null,
       "visibility": null,
       "width": null
      }
     },
     "201eb27213a04274af3718622ec34a45": {
      "model_module": "@jupyter-widgets/base",
      "model_module_version": "1.2.0",
      "model_name": "LayoutModel",
      "state": {
       "_model_module": "@jupyter-widgets/base",
       "_model_module_version": "1.2.0",
       "_model_name": "LayoutModel",
       "_view_count": null,
       "_view_module": "@jupyter-widgets/base",
       "_view_module_version": "1.2.0",
       "_view_name": "LayoutView",
       "align_content": null,
       "align_items": null,
       "align_self": null,
       "border": null,
       "bottom": null,
       "display": null,
       "flex": null,
       "flex_flow": null,
       "grid_area": null,
       "grid_auto_columns": null,
       "grid_auto_flow": null,
       "grid_auto_rows": null,
       "grid_column": null,
       "grid_gap": null,
       "grid_row": null,
       "grid_template_areas": null,
       "grid_template_columns": null,
       "grid_template_rows": null,
       "height": null,
       "justify_content": null,
       "justify_items": null,
       "left": null,
       "margin": null,
       "max_height": null,
       "max_width": null,
       "min_height": null,
       "min_width": null,
       "object_fit": null,
       "object_position": null,
       "order": null,
       "overflow": null,
       "overflow_x": null,
       "overflow_y": null,
       "padding": null,
       "right": null,
       "top": null,
       "visibility": null,
       "width": null
      }
     },
     "298f36377cd34b8f87a51749ef35f833": {
      "model_module": "@jupyter-widgets/controls",
      "model_module_version": "1.5.0",
      "model_name": "ProgressStyleModel",
      "state": {
       "_model_module": "@jupyter-widgets/controls",
       "_model_module_version": "1.5.0",
       "_model_name": "ProgressStyleModel",
       "_view_count": null,
       "_view_module": "@jupyter-widgets/base",
       "_view_module_version": "1.2.0",
       "_view_name": "StyleView",
       "bar_color": null,
       "description_width": ""
      }
     },
     "2bdf23336e8e493ab4c096d5a69f40bc": {
      "model_module": "@jupyter-widgets/controls",
      "model_module_version": "1.5.0",
      "model_name": "DescriptionStyleModel",
      "state": {
       "_model_module": "@jupyter-widgets/controls",
       "_model_module_version": "1.5.0",
       "_model_name": "DescriptionStyleModel",
       "_view_count": null,
       "_view_module": "@jupyter-widgets/base",
       "_view_module_version": "1.2.0",
       "_view_name": "StyleView",
       "description_width": ""
      }
     },
     "2e1955a0933448f79c0c21a81b61b185": {
      "model_module": "@jupyter-widgets/base",
      "model_module_version": "1.2.0",
      "model_name": "LayoutModel",
      "state": {
       "_model_module": "@jupyter-widgets/base",
       "_model_module_version": "1.2.0",
       "_model_name": "LayoutModel",
       "_view_count": null,
       "_view_module": "@jupyter-widgets/base",
       "_view_module_version": "1.2.0",
       "_view_name": "LayoutView",
       "align_content": null,
       "align_items": null,
       "align_self": null,
       "border": null,
       "bottom": null,
       "display": null,
       "flex": null,
       "flex_flow": null,
       "grid_area": null,
       "grid_auto_columns": null,
       "grid_auto_flow": null,
       "grid_auto_rows": null,
       "grid_column": null,
       "grid_gap": null,
       "grid_row": null,
       "grid_template_areas": null,
       "grid_template_columns": null,
       "grid_template_rows": null,
       "height": null,
       "justify_content": null,
       "justify_items": null,
       "left": null,
       "margin": null,
       "max_height": null,
       "max_width": null,
       "min_height": null,
       "min_width": null,
       "object_fit": null,
       "object_position": null,
       "order": null,
       "overflow": null,
       "overflow_x": null,
       "overflow_y": null,
       "padding": null,
       "right": null,
       "top": null,
       "visibility": null,
       "width": null
      }
     },
     "2f6f4f8c9ba34fcd8db1bcf9b1d222c5": {
      "model_module": "@jupyter-widgets/base",
      "model_module_version": "1.2.0",
      "model_name": "LayoutModel",
      "state": {
       "_model_module": "@jupyter-widgets/base",
       "_model_module_version": "1.2.0",
       "_model_name": "LayoutModel",
       "_view_count": null,
       "_view_module": "@jupyter-widgets/base",
       "_view_module_version": "1.2.0",
       "_view_name": "LayoutView",
       "align_content": null,
       "align_items": null,
       "align_self": null,
       "border": null,
       "bottom": null,
       "display": null,
       "flex": null,
       "flex_flow": null,
       "grid_area": null,
       "grid_auto_columns": null,
       "grid_auto_flow": null,
       "grid_auto_rows": null,
       "grid_column": null,
       "grid_gap": null,
       "grid_row": null,
       "grid_template_areas": null,
       "grid_template_columns": null,
       "grid_template_rows": null,
       "height": null,
       "justify_content": null,
       "justify_items": null,
       "left": null,
       "margin": null,
       "max_height": null,
       "max_width": null,
       "min_height": null,
       "min_width": null,
       "object_fit": null,
       "object_position": null,
       "order": null,
       "overflow": null,
       "overflow_x": null,
       "overflow_y": null,
       "padding": null,
       "right": null,
       "top": null,
       "visibility": null,
       "width": null
      }
     },
     "328682214bfc4cf1afeacf4983b9a16f": {
      "model_module": "@jupyter-widgets/controls",
      "model_module_version": "1.5.0",
      "model_name": "ProgressStyleModel",
      "state": {
       "_model_module": "@jupyter-widgets/controls",
       "_model_module_version": "1.5.0",
       "_model_name": "ProgressStyleModel",
       "_view_count": null,
       "_view_module": "@jupyter-widgets/base",
       "_view_module_version": "1.2.0",
       "_view_name": "StyleView",
       "bar_color": null,
       "description_width": ""
      }
     },
     "3adf52aaa9394b98bafac9408b66f2df": {
      "model_module": "@jupyter-widgets/controls",
      "model_module_version": "1.5.0",
      "model_name": "FloatProgressModel",
      "state": {
       "_dom_classes": [],
       "_model_module": "@jupyter-widgets/controls",
       "_model_module_version": "1.5.0",
       "_model_name": "FloatProgressModel",
       "_view_count": null,
       "_view_module": "@jupyter-widgets/controls",
       "_view_module_version": "1.5.0",
       "_view_name": "ProgressView",
       "bar_style": "success",
       "description": "",
       "description_tooltip": null,
       "layout": "IPY_MODEL_6587d931422d4c8aa256e653de04383f",
       "max": 898823.0,
       "min": 0.0,
       "orientation": "horizontal",
       "style": "IPY_MODEL_328682214bfc4cf1afeacf4983b9a16f",
       "value": 898823.0
      }
     },
     "3cc609e8ab9f4539b95801331c005cfb": {
      "model_module": "@jupyter-widgets/controls",
      "model_module_version": "1.5.0",
      "model_name": "DescriptionStyleModel",
      "state": {
       "_model_module": "@jupyter-widgets/controls",
       "_model_module_version": "1.5.0",
       "_model_name": "DescriptionStyleModel",
       "_view_count": null,
       "_view_module": "@jupyter-widgets/base",
       "_view_module_version": "1.2.0",
       "_view_name": "StyleView",
       "description_width": ""
      }
     },
     "44f268bc60894af28280e8cac5be43e8": {
      "model_module": "@jupyter-widgets/controls",
      "model_module_version": "1.5.0",
      "model_name": "DescriptionStyleModel",
      "state": {
       "_model_module": "@jupyter-widgets/controls",
       "_model_module_version": "1.5.0",
       "_model_name": "DescriptionStyleModel",
       "_view_count": null,
       "_view_module": "@jupyter-widgets/base",
       "_view_module_version": "1.2.0",
       "_view_name": "StyleView",
       "description_width": ""
      }
     },
     "55cc4d43bb674315a2fd5e6b917cdcf4": {
      "model_module": "@jupyter-widgets/controls",
      "model_module_version": "1.5.0",
      "model_name": "HBoxModel",
      "state": {
       "_dom_classes": [],
       "_model_module": "@jupyter-widgets/controls",
       "_model_module_version": "1.5.0",
       "_model_name": "HBoxModel",
       "_view_count": null,
       "_view_module": "@jupyter-widgets/controls",
       "_view_module_version": "1.5.0",
       "_view_name": "HBoxView",
       "box_style": "",
       "children": [
        "IPY_MODEL_1bb87168f9f141999893d3147bacd927",
        "IPY_MODEL_3adf52aaa9394b98bafac9408b66f2df",
        "IPY_MODEL_919b6944e3a54b90ba3ea965a0451288"
       ],
       "layout": "IPY_MODEL_95dd1ae696684dde9c3638e2360317cc"
      }
     },
     "59179c2c298f4fd9a5ae1dde214b97e1": {
      "model_module": "@jupyter-widgets/controls",
      "model_module_version": "1.5.0",
      "model_name": "HTMLModel",
      "state": {
       "_dom_classes": [],
       "_model_module": "@jupyter-widgets/controls",
       "_model_module_version": "1.5.0",
       "_model_name": "HTMLModel",
       "_view_count": null,
       "_view_module": "@jupyter-widgets/controls",
       "_view_module_version": "1.5.0",
       "_view_name": "HTMLView",
       "description": "",
       "description_tooltip": null,
       "layout": "IPY_MODEL_e8f82dca03f94520b93a8d1fed0f3b6f",
       "placeholder": "​",
       "style": "IPY_MODEL_59b545a213dd471e9948f57706dc78b1",
       "value": "Downloading: 100%"
      }
     },
     "59b545a213dd471e9948f57706dc78b1": {
      "model_module": "@jupyter-widgets/controls",
      "model_module_version": "1.5.0",
      "model_name": "DescriptionStyleModel",
      "state": {
       "_model_module": "@jupyter-widgets/controls",
       "_model_module_version": "1.5.0",
       "_model_name": "DescriptionStyleModel",
       "_view_count": null,
       "_view_module": "@jupyter-widgets/base",
       "_view_module_version": "1.2.0",
       "_view_name": "StyleView",
       "description_width": ""
      }
     },
     "5b441eb886a94372b21ec2e12950c5b7": {
      "model_module": "@jupyter-widgets/controls",
      "model_module_version": "1.5.0",
      "model_name": "HTMLModel",
      "state": {
       "_dom_classes": [],
       "_model_module": "@jupyter-widgets/controls",
       "_model_module_version": "1.5.0",
       "_model_name": "HTMLModel",
       "_view_count": null,
       "_view_module": "@jupyter-widgets/controls",
       "_view_module_version": "1.5.0",
       "_view_name": "HTMLView",
       "description": "",
       "description_tooltip": null,
       "layout": "IPY_MODEL_03c391a190074b68860f90e35a88fae2",
       "placeholder": "​",
       "style": "IPY_MODEL_a799538bf78f4a09adb9de9741447a58",
       "value": " 481/481 [00:00&lt;00:00, 17.3kB/s]"
      }
     },
     "5cb90207c80c4826ac2a90e27de90b3e": {
      "model_module": "@jupyter-widgets/controls",
      "model_module_version": "1.5.0",
      "model_name": "FloatProgressModel",
      "state": {
       "_dom_classes": [],
       "_model_module": "@jupyter-widgets/controls",
       "_model_module_version": "1.5.0",
       "_model_name": "FloatProgressModel",
       "_view_count": null,
       "_view_module": "@jupyter-widgets/controls",
       "_view_module_version": "1.5.0",
       "_view_name": "ProgressView",
       "bar_style": "success",
       "description": "",
       "description_tooltip": null,
       "layout": "IPY_MODEL_2e1955a0933448f79c0c21a81b61b185",
       "max": 501200538.0,
       "min": 0.0,
       "orientation": "horizontal",
       "style": "IPY_MODEL_ff559dcfc9934f3fbe3b663078ff3be2",
       "value": 501200538.0
      }
     },
     "5ecf3f726a11433d8a0906cd04f5c4d2": {
      "model_module": "@jupyter-widgets/controls",
      "model_module_version": "1.5.0",
      "model_name": "FloatProgressModel",
      "state": {
       "_dom_classes": [],
       "_model_module": "@jupyter-widgets/controls",
       "_model_module_version": "1.5.0",
       "_model_name": "FloatProgressModel",
       "_view_count": null,
       "_view_module": "@jupyter-widgets/controls",
       "_view_module_version": "1.5.0",
       "_view_name": "ProgressView",
       "bar_style": "success",
       "description": "",
       "description_tooltip": null,
       "layout": "IPY_MODEL_c2d4e4b1a2964310ae093f8485842819",
       "max": 481.0,
       "min": 0.0,
       "orientation": "horizontal",
       "style": "IPY_MODEL_298f36377cd34b8f87a51749ef35f833",
       "value": 481.0
      }
     },
     "6587d931422d4c8aa256e653de04383f": {
      "model_module": "@jupyter-widgets/base",
      "model_module_version": "1.2.0",
      "model_name": "LayoutModel",
      "state": {
       "_model_module": "@jupyter-widgets/base",
       "_model_module_version": "1.2.0",
       "_model_name": "LayoutModel",
       "_view_count": null,
       "_view_module": "@jupyter-widgets/base",
       "_view_module_version": "1.2.0",
       "_view_name": "LayoutView",
       "align_content": null,
       "align_items": null,
       "align_self": null,
       "border": null,
       "bottom": null,
       "display": null,
       "flex": null,
       "flex_flow": null,
       "grid_area": null,
       "grid_auto_columns": null,
       "grid_auto_flow": null,
       "grid_auto_rows": null,
       "grid_column": null,
       "grid_gap": null,
       "grid_row": null,
       "grid_template_areas": null,
       "grid_template_columns": null,
       "grid_template_rows": null,
       "height": null,
       "justify_content": null,
       "justify_items": null,
       "left": null,
       "margin": null,
       "max_height": null,
       "max_width": null,
       "min_height": null,
       "min_width": null,
       "object_fit": null,
       "object_position": null,
       "order": null,
       "overflow": null,
       "overflow_x": null,
       "overflow_y": null,
       "padding": null,
       "right": null,
       "top": null,
       "visibility": null,
       "width": null
      }
     },
     "81c7f0e26f354f3b8bff3eaa571d452f": {
      "model_module": "@jupyter-widgets/controls",
      "model_module_version": "1.5.0",
      "model_name": "HBoxModel",
      "state": {
       "_dom_classes": [],
       "_model_module": "@jupyter-widgets/controls",
       "_model_module_version": "1.5.0",
       "_model_name": "HBoxModel",
       "_view_count": null,
       "_view_module": "@jupyter-widgets/controls",
       "_view_module_version": "1.5.0",
       "_view_name": "HBoxView",
       "box_style": "",
       "children": [
        "IPY_MODEL_aa2577a15d8349c38887816f064e925c",
        "IPY_MODEL_5cb90207c80c4826ac2a90e27de90b3e",
        "IPY_MODEL_afd94eb4d5544956a7c73a2bb5849cf1"
       ],
       "layout": "IPY_MODEL_026d5c4146514b4686bcb56c7c6e3646"
      }
     },
     "846fb58ad96b463c85bcbbd2f2eaed74": {
      "model_module": "@jupyter-widgets/base",
      "model_module_version": "1.2.0",
      "model_name": "LayoutModel",
      "state": {
       "_model_module": "@jupyter-widgets/base",
       "_model_module_version": "1.2.0",
       "_model_name": "LayoutModel",
       "_view_count": null,
       "_view_module": "@jupyter-widgets/base",
       "_view_module_version": "1.2.0",
       "_view_name": "LayoutView",
       "align_content": null,
       "align_items": null,
       "align_self": null,
       "border": null,
       "bottom": null,
       "display": null,
       "flex": null,
       "flex_flow": null,
       "grid_area": null,
       "grid_auto_columns": null,
       "grid_auto_flow": null,
       "grid_auto_rows": null,
       "grid_column": null,
       "grid_gap": null,
       "grid_row": null,
       "grid_template_areas": null,
       "grid_template_columns": null,
       "grid_template_rows": null,
       "height": null,
       "justify_content": null,
       "justify_items": null,
       "left": null,
       "margin": null,
       "max_height": null,
       "max_width": null,
       "min_height": null,
       "min_width": null,
       "object_fit": null,
       "object_position": null,
       "order": null,
       "overflow": null,
       "overflow_x": null,
       "overflow_y": null,
       "padding": null,
       "right": null,
       "top": null,
       "visibility": null,
       "width": null
      }
     },
     "88adbab9386448d98f1141a632ea7b49": {
      "model_module": "@jupyter-widgets/controls",
      "model_module_version": "1.5.0",
      "model_name": "DescriptionStyleModel",
      "state": {
       "_model_module": "@jupyter-widgets/controls",
       "_model_module_version": "1.5.0",
       "_model_name": "DescriptionStyleModel",
       "_view_count": null,
       "_view_module": "@jupyter-widgets/base",
       "_view_module_version": "1.2.0",
       "_view_name": "StyleView",
       "description_width": ""
      }
     },
     "919b6944e3a54b90ba3ea965a0451288": {
      "model_module": "@jupyter-widgets/controls",
      "model_module_version": "1.5.0",
      "model_name": "HTMLModel",
      "state": {
       "_dom_classes": [],
       "_model_module": "@jupyter-widgets/controls",
       "_model_module_version": "1.5.0",
       "_model_name": "HTMLModel",
       "_view_count": null,
       "_view_module": "@jupyter-widgets/controls",
       "_view_module_version": "1.5.0",
       "_view_name": "HTMLView",
       "description": "",
       "description_tooltip": null,
       "layout": "IPY_MODEL_94de386f7cc441239e7c9191deb3c136",
       "placeholder": "​",
       "style": "IPY_MODEL_e43561b31d43406db3f7af18702ac29a",
       "value": " 878k/878k [00:00&lt;00:00, 2.88MB/s]"
      }
     },
     "94de386f7cc441239e7c9191deb3c136": {
      "model_module": "@jupyter-widgets/base",
      "model_module_version": "1.2.0",
      "model_name": "LayoutModel",
      "state": {
       "_model_module": "@jupyter-widgets/base",
       "_model_module_version": "1.2.0",
       "_model_name": "LayoutModel",
       "_view_count": null,
       "_view_module": "@jupyter-widgets/base",
       "_view_module_version": "1.2.0",
       "_view_name": "LayoutView",
       "align_content": null,
       "align_items": null,
       "align_self": null,
       "border": null,
       "bottom": null,
       "display": null,
       "flex": null,
       "flex_flow": null,
       "grid_area": null,
       "grid_auto_columns": null,
       "grid_auto_flow": null,
       "grid_auto_rows": null,
       "grid_column": null,
       "grid_gap": null,
       "grid_row": null,
       "grid_template_areas": null,
       "grid_template_columns": null,
       "grid_template_rows": null,
       "height": null,
       "justify_content": null,
       "justify_items": null,
       "left": null,
       "margin": null,
       "max_height": null,
       "max_width": null,
       "min_height": null,
       "min_width": null,
       "object_fit": null,
       "object_position": null,
       "order": null,
       "overflow": null,
       "overflow_x": null,
       "overflow_y": null,
       "padding": null,
       "right": null,
       "top": null,
       "visibility": null,
       "width": null
      }
     },
     "957b1c3f495a4f9cb7536537916c8280": {
      "model_module": "@jupyter-widgets/controls",
      "model_module_version": "1.5.0",
      "model_name": "HTMLModel",
      "state": {
       "_dom_classes": [],
       "_model_module": "@jupyter-widgets/controls",
       "_model_module_version": "1.5.0",
       "_model_name": "HTMLModel",
       "_view_count": null,
       "_view_module": "@jupyter-widgets/controls",
       "_view_module_version": "1.5.0",
       "_view_name": "HTMLView",
       "description": "",
       "description_tooltip": null,
       "layout": "IPY_MODEL_004a722f6e6b4e43a688afb49096b95e",
       "placeholder": "​",
       "style": "IPY_MODEL_44f268bc60894af28280e8cac5be43e8",
       "value": "Downloading: 100%"
      }
     },
     "95dd1ae696684dde9c3638e2360317cc": {
      "model_module": "@jupyter-widgets/base",
      "model_module_version": "1.2.0",
      "model_name": "LayoutModel",
      "state": {
       "_model_module": "@jupyter-widgets/base",
       "_model_module_version": "1.2.0",
       "_model_name": "LayoutModel",
       "_view_count": null,
       "_view_module": "@jupyter-widgets/base",
       "_view_module_version": "1.2.0",
       "_view_name": "LayoutView",
       "align_content": null,
       "align_items": null,
       "align_self": null,
       "border": null,
       "bottom": null,
       "display": null,
       "flex": null,
       "flex_flow": null,
       "grid_area": null,
       "grid_auto_columns": null,
       "grid_auto_flow": null,
       "grid_auto_rows": null,
       "grid_column": null,
       "grid_gap": null,
       "grid_row": null,
       "grid_template_areas": null,
       "grid_template_columns": null,
       "grid_template_rows": null,
       "height": null,
       "justify_content": null,
       "justify_items": null,
       "left": null,
       "margin": null,
       "max_height": null,
       "max_width": null,
       "min_height": null,
       "min_width": null,
       "object_fit": null,
       "object_position": null,
       "order": null,
       "overflow": null,
       "overflow_x": null,
       "overflow_y": null,
       "padding": null,
       "right": null,
       "top": null,
       "visibility": null,
       "width": null
      }
     },
     "9bb1fa9abbec42e5afae2318fa43fd37": {
      "model_module": "@jupyter-widgets/base",
      "model_module_version": "1.2.0",
      "model_name": "LayoutModel",
      "state": {
       "_model_module": "@jupyter-widgets/base",
       "_model_module_version": "1.2.0",
       "_model_name": "LayoutModel",
       "_view_count": null,
       "_view_module": "@jupyter-widgets/base",
       "_view_module_version": "1.2.0",
       "_view_name": "LayoutView",
       "align_content": null,
       "align_items": null,
       "align_self": null,
       "border": null,
       "bottom": null,
       "display": null,
       "flex": null,
       "flex_flow": null,
       "grid_area": null,
       "grid_auto_columns": null,
       "grid_auto_flow": null,
       "grid_auto_rows": null,
       "grid_column": null,
       "grid_gap": null,
       "grid_row": null,
       "grid_template_areas": null,
       "grid_template_columns": null,
       "grid_template_rows": null,
       "height": null,
       "justify_content": null,
       "justify_items": null,
       "left": null,
       "margin": null,
       "max_height": null,
       "max_width": null,
       "min_height": null,
       "min_width": null,
       "object_fit": null,
       "object_position": null,
       "order": null,
       "overflow": null,
       "overflow_x": null,
       "overflow_y": null,
       "padding": null,
       "right": null,
       "top": null,
       "visibility": null,
       "width": null
      }
     },
     "a0ef4fd88dc84554a840a3a97ac37929": {
      "model_module": "@jupyter-widgets/controls",
      "model_module_version": "1.5.0",
      "model_name": "FloatProgressModel",
      "state": {
       "_dom_classes": [],
       "_model_module": "@jupyter-widgets/controls",
       "_model_module_version": "1.5.0",
       "_model_name": "FloatProgressModel",
       "_view_count": null,
       "_view_module": "@jupyter-widgets/controls",
       "_view_module_version": "1.5.0",
       "_view_name": "ProgressView",
       "bar_style": "success",
       "description": "",
       "description_tooltip": null,
       "layout": "IPY_MODEL_846fb58ad96b463c85bcbbd2f2eaed74",
       "max": 456318.0,
       "min": 0.0,
       "orientation": "horizontal",
       "style": "IPY_MODEL_15c331191ad6411a9bf18ad7507d0a0e",
       "value": 456318.0
      }
     },
     "a799538bf78f4a09adb9de9741447a58": {
      "model_module": "@jupyter-widgets/controls",
      "model_module_version": "1.5.0",
      "model_name": "DescriptionStyleModel",
      "state": {
       "_model_module": "@jupyter-widgets/controls",
       "_model_module_version": "1.5.0",
       "_model_name": "DescriptionStyleModel",
       "_view_count": null,
       "_view_module": "@jupyter-widgets/base",
       "_view_module_version": "1.2.0",
       "_view_name": "StyleView",
       "description_width": ""
      }
     },
     "aa2577a15d8349c38887816f064e925c": {
      "model_module": "@jupyter-widgets/controls",
      "model_module_version": "1.5.0",
      "model_name": "HTMLModel",
      "state": {
       "_dom_classes": [],
       "_model_module": "@jupyter-widgets/controls",
       "_model_module_version": "1.5.0",
       "_model_name": "HTMLModel",
       "_view_count": null,
       "_view_module": "@jupyter-widgets/controls",
       "_view_module_version": "1.5.0",
       "_view_name": "HTMLView",
       "description": "",
       "description_tooltip": null,
       "layout": "IPY_MODEL_201eb27213a04274af3718622ec34a45",
       "placeholder": "​",
       "style": "IPY_MODEL_eaed78d365654725b1d29773c41e6d29",
       "value": "Downloading: 100%"
      }
     },
     "adbafa160e84445bbb836765d1726fc2": {
      "model_module": "@jupyter-widgets/base",
      "model_module_version": "1.2.0",
      "model_name": "LayoutModel",
      "state": {
       "_model_module": "@jupyter-widgets/base",
       "_model_module_version": "1.2.0",
       "_model_name": "LayoutModel",
       "_view_count": null,
       "_view_module": "@jupyter-widgets/base",
       "_view_module_version": "1.2.0",
       "_view_name": "LayoutView",
       "align_content": null,
       "align_items": null,
       "align_self": null,
       "border": null,
       "bottom": null,
       "display": null,
       "flex": null,
       "flex_flow": null,
       "grid_area": null,
       "grid_auto_columns": null,
       "grid_auto_flow": null,
       "grid_auto_rows": null,
       "grid_column": null,
       "grid_gap": null,
       "grid_row": null,
       "grid_template_areas": null,
       "grid_template_columns": null,
       "grid_template_rows": null,
       "height": null,
       "justify_content": null,
       "justify_items": null,
       "left": null,
       "margin": null,
       "max_height": null,
       "max_width": null,
       "min_height": null,
       "min_width": null,
       "object_fit": null,
       "object_position": null,
       "order": null,
       "overflow": null,
       "overflow_x": null,
       "overflow_y": null,
       "padding": null,
       "right": null,
       "top": null,
       "visibility": null,
       "width": null
      }
     },
     "afd94eb4d5544956a7c73a2bb5849cf1": {
      "model_module": "@jupyter-widgets/controls",
      "model_module_version": "1.5.0",
      "model_name": "HTMLModel",
      "state": {
       "_dom_classes": [],
       "_model_module": "@jupyter-widgets/controls",
       "_model_module_version": "1.5.0",
       "_model_name": "HTMLModel",
       "_view_count": null,
       "_view_module": "@jupyter-widgets/controls",
       "_view_module_version": "1.5.0",
       "_view_name": "HTMLView",
       "description": "",
       "description_tooltip": null,
       "layout": "IPY_MODEL_1c2ce88547534fd5b432b1e116ec6a9c",
       "placeholder": "​",
       "style": "IPY_MODEL_2bdf23336e8e493ab4c096d5a69f40bc",
       "value": " 478M/478M [00:22&lt;00:00, 23.6MB/s]"
      }
     },
     "b25089f21c4f41aa9d6cc90862f9f771": {
      "model_module": "@jupyter-widgets/controls",
      "model_module_version": "1.5.0",
      "model_name": "DescriptionStyleModel",
      "state": {
       "_model_module": "@jupyter-widgets/controls",
       "_model_module_version": "1.5.0",
       "_model_name": "DescriptionStyleModel",
       "_view_count": null,
       "_view_module": "@jupyter-widgets/base",
       "_view_module_version": "1.2.0",
       "_view_name": "StyleView",
       "description_width": ""
      }
     },
     "b34844bd29334c61894a2086a2141c3f": {
      "model_module": "@jupyter-widgets/controls",
      "model_module_version": "1.5.0",
      "model_name": "DescriptionStyleModel",
      "state": {
       "_model_module": "@jupyter-widgets/controls",
       "_model_module_version": "1.5.0",
       "_model_name": "DescriptionStyleModel",
       "_view_count": null,
       "_view_module": "@jupyter-widgets/base",
       "_view_module_version": "1.2.0",
       "_view_name": "StyleView",
       "description_width": ""
      }
     },
     "b9aaa699e8424fe198623b4ee0ec3c17": {
      "model_module": "@jupyter-widgets/base",
      "model_module_version": "1.2.0",
      "model_name": "LayoutModel",
      "state": {
       "_model_module": "@jupyter-widgets/base",
       "_model_module_version": "1.2.0",
       "_model_name": "LayoutModel",
       "_view_count": null,
       "_view_module": "@jupyter-widgets/base",
       "_view_module_version": "1.2.0",
       "_view_name": "LayoutView",
       "align_content": null,
       "align_items": null,
       "align_self": null,
       "border": null,
       "bottom": null,
       "display": null,
       "flex": null,
       "flex_flow": null,
       "grid_area": null,
       "grid_auto_columns": null,
       "grid_auto_flow": null,
       "grid_auto_rows": null,
       "grid_column": null,
       "grid_gap": null,
       "grid_row": null,
       "grid_template_areas": null,
       "grid_template_columns": null,
       "grid_template_rows": null,
       "height": null,
       "justify_content": null,
       "justify_items": null,
       "left": null,
       "margin": null,
       "max_height": null,
       "max_width": null,
       "min_height": null,
       "min_width": null,
       "object_fit": null,
       "object_position": null,
       "order": null,
       "overflow": null,
       "overflow_x": null,
       "overflow_y": null,
       "padding": null,
       "right": null,
       "top": null,
       "visibility": null,
       "width": null
      }
     },
     "c1a769326a814cfa8b9c1f8e94555342": {
      "model_module": "@jupyter-widgets/controls",
      "model_module_version": "1.5.0",
      "model_name": "HBoxModel",
      "state": {
       "_dom_classes": [],
       "_model_module": "@jupyter-widgets/controls",
       "_model_module_version": "1.5.0",
       "_model_name": "HBoxModel",
       "_view_count": null,
       "_view_module": "@jupyter-widgets/controls",
       "_view_module_version": "1.5.0",
       "_view_name": "HBoxView",
       "box_style": "",
       "children": [
        "IPY_MODEL_59179c2c298f4fd9a5ae1dde214b97e1",
        "IPY_MODEL_5ecf3f726a11433d8a0906cd04f5c4d2",
        "IPY_MODEL_5b441eb886a94372b21ec2e12950c5b7"
       ],
       "layout": "IPY_MODEL_11e75f075ca34f2abc9f9964eeeee4a2"
      }
     },
     "c2d4e4b1a2964310ae093f8485842819": {
      "model_module": "@jupyter-widgets/base",
      "model_module_version": "1.2.0",
      "model_name": "LayoutModel",
      "state": {
       "_model_module": "@jupyter-widgets/base",
       "_model_module_version": "1.2.0",
       "_model_name": "LayoutModel",
       "_view_count": null,
       "_view_module": "@jupyter-widgets/base",
       "_view_module_version": "1.2.0",
       "_view_name": "LayoutView",
       "align_content": null,
       "align_items": null,
       "align_self": null,
       "border": null,
       "bottom": null,
       "display": null,
       "flex": null,
       "flex_flow": null,
       "grid_area": null,
       "grid_auto_columns": null,
       "grid_auto_flow": null,
       "grid_auto_rows": null,
       "grid_column": null,
       "grid_gap": null,
       "grid_row": null,
       "grid_template_areas": null,
       "grid_template_columns": null,
       "grid_template_rows": null,
       "height": null,
       "justify_content": null,
       "justify_items": null,
       "left": null,
       "margin": null,
       "max_height": null,
       "max_width": null,
       "min_height": null,
       "min_width": null,
       "object_fit": null,
       "object_position": null,
       "order": null,
       "overflow": null,
       "overflow_x": null,
       "overflow_y": null,
       "padding": null,
       "right": null,
       "top": null,
       "visibility": null,
       "width": null
      }
     },
     "cad224d00b46414ba215f0893e79dfe3": {
      "model_module": "@jupyter-widgets/base",
      "model_module_version": "1.2.0",
      "model_name": "LayoutModel",
      "state": {
       "_model_module": "@jupyter-widgets/base",
       "_model_module_version": "1.2.0",
       "_model_name": "LayoutModel",
       "_view_count": null,
       "_view_module": "@jupyter-widgets/base",
       "_view_module_version": "1.2.0",
       "_view_name": "LayoutView",
       "align_content": null,
       "align_items": null,
       "align_self": null,
       "border": null,
       "bottom": null,
       "display": null,
       "flex": null,
       "flex_flow": null,
       "grid_area": null,
       "grid_auto_columns": null,
       "grid_auto_flow": null,
       "grid_auto_rows": null,
       "grid_column": null,
       "grid_gap": null,
       "grid_row": null,
       "grid_template_areas": null,
       "grid_template_columns": null,
       "grid_template_rows": null,
       "height": null,
       "justify_content": null,
       "justify_items": null,
       "left": null,
       "margin": null,
       "max_height": null,
       "max_width": null,
       "min_height": null,
       "min_width": null,
       "object_fit": null,
       "object_position": null,
       "order": null,
       "overflow": null,
       "overflow_x": null,
       "overflow_y": null,
       "padding": null,
       "right": null,
       "top": null,
       "visibility": null,
       "width": null
      }
     },
     "d756ef3d413448d990aacf3fd56ad38b": {
      "model_module": "@jupyter-widgets/controls",
      "model_module_version": "1.5.0",
      "model_name": "HBoxModel",
      "state": {
       "_dom_classes": [],
       "_model_module": "@jupyter-widgets/controls",
       "_model_module_version": "1.5.0",
       "_model_name": "HBoxModel",
       "_view_count": null,
       "_view_module": "@jupyter-widgets/controls",
       "_view_module_version": "1.5.0",
       "_view_name": "HBoxView",
       "box_style": "",
       "children": [
        "IPY_MODEL_fa4845c14a784348b52e97df9c66f4dd",
        "IPY_MODEL_12ca74d7cc5c4f81aa8e1359c7c345e5",
        "IPY_MODEL_027daacbe49d48c7a538abbb4cf218d2"
       ],
       "layout": "IPY_MODEL_b9aaa699e8424fe198623b4ee0ec3c17"
      }
     },
     "daacdb2e0e7945e8a15773e78bae8aca": {
      "model_module": "@jupyter-widgets/base",
      "model_module_version": "1.2.0",
      "model_name": "LayoutModel",
      "state": {
       "_model_module": "@jupyter-widgets/base",
       "_model_module_version": "1.2.0",
       "_model_name": "LayoutModel",
       "_view_count": null,
       "_view_module": "@jupyter-widgets/base",
       "_view_module_version": "1.2.0",
       "_view_name": "LayoutView",
       "align_content": null,
       "align_items": null,
       "align_self": null,
       "border": null,
       "bottom": null,
       "display": null,
       "flex": null,
       "flex_flow": null,
       "grid_area": null,
       "grid_auto_columns": null,
       "grid_auto_flow": null,
       "grid_auto_rows": null,
       "grid_column": null,
       "grid_gap": null,
       "grid_row": null,
       "grid_template_areas": null,
       "grid_template_columns": null,
       "grid_template_rows": null,
       "height": null,
       "justify_content": null,
       "justify_items": null,
       "left": null,
       "margin": null,
       "max_height": null,
       "max_width": null,
       "min_height": null,
       "min_width": null,
       "object_fit": null,
       "object_position": null,
       "order": null,
       "overflow": null,
       "overflow_x": null,
       "overflow_y": null,
       "padding": null,
       "right": null,
       "top": null,
       "visibility": null,
       "width": null
      }
     },
     "e28095004c8445bdb5bc30436e139bcb": {
      "model_module": "@jupyter-widgets/controls",
      "model_module_version": "1.5.0",
      "model_name": "HBoxModel",
      "state": {
       "_dom_classes": [],
       "_model_module": "@jupyter-widgets/controls",
       "_model_module_version": "1.5.0",
       "_model_name": "HBoxModel",
       "_view_count": null,
       "_view_module": "@jupyter-widgets/controls",
       "_view_module_version": "1.5.0",
       "_view_name": "HBoxView",
       "box_style": "",
       "children": [
        "IPY_MODEL_957b1c3f495a4f9cb7536537916c8280",
        "IPY_MODEL_a0ef4fd88dc84554a840a3a97ac37929",
        "IPY_MODEL_fa961d33ec9b4e5c8cd117b2fb5845d9"
       ],
       "layout": "IPY_MODEL_e535942c655f4480904c16a72934b168"
      }
     },
     "e43561b31d43406db3f7af18702ac29a": {
      "model_module": "@jupyter-widgets/controls",
      "model_module_version": "1.5.0",
      "model_name": "DescriptionStyleModel",
      "state": {
       "_model_module": "@jupyter-widgets/controls",
       "_model_module_version": "1.5.0",
       "_model_name": "DescriptionStyleModel",
       "_view_count": null,
       "_view_module": "@jupyter-widgets/base",
       "_view_module_version": "1.2.0",
       "_view_name": "StyleView",
       "description_width": ""
      }
     },
     "e535942c655f4480904c16a72934b168": {
      "model_module": "@jupyter-widgets/base",
      "model_module_version": "1.2.0",
      "model_name": "LayoutModel",
      "state": {
       "_model_module": "@jupyter-widgets/base",
       "_model_module_version": "1.2.0",
       "_model_name": "LayoutModel",
       "_view_count": null,
       "_view_module": "@jupyter-widgets/base",
       "_view_module_version": "1.2.0",
       "_view_name": "LayoutView",
       "align_content": null,
       "align_items": null,
       "align_self": null,
       "border": null,
       "bottom": null,
       "display": null,
       "flex": null,
       "flex_flow": null,
       "grid_area": null,
       "grid_auto_columns": null,
       "grid_auto_flow": null,
       "grid_auto_rows": null,
       "grid_column": null,
       "grid_gap": null,
       "grid_row": null,
       "grid_template_areas": null,
       "grid_template_columns": null,
       "grid_template_rows": null,
       "height": null,
       "justify_content": null,
       "justify_items": null,
       "left": null,
       "margin": null,
       "max_height": null,
       "max_width": null,
       "min_height": null,
       "min_width": null,
       "object_fit": null,
       "object_position": null,
       "order": null,
       "overflow": null,
       "overflow_x": null,
       "overflow_y": null,
       "padding": null,
       "right": null,
       "top": null,
       "visibility": null,
       "width": null
      }
     },
     "e8f82dca03f94520b93a8d1fed0f3b6f": {
      "model_module": "@jupyter-widgets/base",
      "model_module_version": "1.2.0",
      "model_name": "LayoutModel",
      "state": {
       "_model_module": "@jupyter-widgets/base",
       "_model_module_version": "1.2.0",
       "_model_name": "LayoutModel",
       "_view_count": null,
       "_view_module": "@jupyter-widgets/base",
       "_view_module_version": "1.2.0",
       "_view_name": "LayoutView",
       "align_content": null,
       "align_items": null,
       "align_self": null,
       "border": null,
       "bottom": null,
       "display": null,
       "flex": null,
       "flex_flow": null,
       "grid_area": null,
       "grid_auto_columns": null,
       "grid_auto_flow": null,
       "grid_auto_rows": null,
       "grid_column": null,
       "grid_gap": null,
       "grid_row": null,
       "grid_template_areas": null,
       "grid_template_columns": null,
       "grid_template_rows": null,
       "height": null,
       "justify_content": null,
       "justify_items": null,
       "left": null,
       "margin": null,
       "max_height": null,
       "max_width": null,
       "min_height": null,
       "min_width": null,
       "object_fit": null,
       "object_position": null,
       "order": null,
       "overflow": null,
       "overflow_x": null,
       "overflow_y": null,
       "padding": null,
       "right": null,
       "top": null,
       "visibility": null,
       "width": null
      }
     },
     "eaed78d365654725b1d29773c41e6d29": {
      "model_module": "@jupyter-widgets/controls",
      "model_module_version": "1.5.0",
      "model_name": "DescriptionStyleModel",
      "state": {
       "_model_module": "@jupyter-widgets/controls",
       "_model_module_version": "1.5.0",
       "_model_name": "DescriptionStyleModel",
       "_view_count": null,
       "_view_module": "@jupyter-widgets/base",
       "_view_module_version": "1.2.0",
       "_view_name": "StyleView",
       "description_width": ""
      }
     },
     "fa4845c14a784348b52e97df9c66f4dd": {
      "model_module": "@jupyter-widgets/controls",
      "model_module_version": "1.5.0",
      "model_name": "HTMLModel",
      "state": {
       "_dom_classes": [],
       "_model_module": "@jupyter-widgets/controls",
       "_model_module_version": "1.5.0",
       "_model_name": "HTMLModel",
       "_view_count": null,
       "_view_module": "@jupyter-widgets/controls",
       "_view_module_version": "1.5.0",
       "_view_name": "HTMLView",
       "description": "",
       "description_tooltip": null,
       "layout": "IPY_MODEL_daacdb2e0e7945e8a15773e78bae8aca",
       "placeholder": "​",
       "style": "IPY_MODEL_3cc609e8ab9f4539b95801331c005cfb",
       "value": "Downloading: 100%"
      }
     },
     "fa961d33ec9b4e5c8cd117b2fb5845d9": {
      "model_module": "@jupyter-widgets/controls",
      "model_module_version": "1.5.0",
      "model_name": "HTMLModel",
      "state": {
       "_dom_classes": [],
       "_model_module": "@jupyter-widgets/controls",
       "_model_module_version": "1.5.0",
       "_model_name": "HTMLModel",
       "_view_count": null,
       "_view_module": "@jupyter-widgets/controls",
       "_view_module_version": "1.5.0",
       "_view_name": "HTMLView",
       "description": "",
       "description_tooltip": null,
       "layout": "IPY_MODEL_adbafa160e84445bbb836765d1726fc2",
       "placeholder": "​",
       "style": "IPY_MODEL_88adbab9386448d98f1141a632ea7b49",
       "value": " 446k/446k [00:00&lt;00:00, 884kB/s]"
      }
     },
     "ff559dcfc9934f3fbe3b663078ff3be2": {
      "model_module": "@jupyter-widgets/controls",
      "model_module_version": "1.5.0",
      "model_name": "ProgressStyleModel",
      "state": {
       "_model_module": "@jupyter-widgets/controls",
       "_model_module_version": "1.5.0",
       "_model_name": "ProgressStyleModel",
       "_view_count": null,
       "_view_module": "@jupyter-widgets/base",
       "_view_module_version": "1.2.0",
       "_view_name": "StyleView",
       "bar_color": null,
       "description_width": ""
      }
     }
    },
    "version_major": 2,
    "version_minor": 0
   }
  }
 },
 "nbformat": 4,
 "nbformat_minor": 5
}
