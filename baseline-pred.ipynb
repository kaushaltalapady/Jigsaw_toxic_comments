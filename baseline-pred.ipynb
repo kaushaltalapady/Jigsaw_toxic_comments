{
 "cells": [
  {
   "cell_type": "code",
   "execution_count": 1,
   "id": "e3368a41",
   "metadata": {
    "execution": {
     "iopub.execute_input": "2021-12-28T01:29:46.017695Z",
     "iopub.status.busy": "2021-12-28T01:29:46.016597Z",
     "iopub.status.idle": "2021-12-28T01:29:47.231861Z",
     "shell.execute_reply": "2021-12-28T01:29:47.231091Z",
     "shell.execute_reply.started": "2021-12-19T16:36:32.567977Z"
    },
    "papermill": {
     "duration": 1.226453,
     "end_time": "2021-12-28T01:29:47.232029",
     "exception": false,
     "start_time": "2021-12-28T01:29:46.005576",
     "status": "completed"
    },
    "tags": []
   },
   "outputs": [],
   "source": [
    "import numpy as np\n",
    "import pandas as pd\n",
    "import sklearn\n",
    "import pickle\n",
    "import re\n",
    "from bs4 import BeautifulSoup"
   ]
  },
  {
   "cell_type": "code",
   "execution_count": 2,
   "id": "367e88c0",
   "metadata": {
    "execution": {
     "iopub.execute_input": "2021-12-28T01:29:47.252678Z",
     "iopub.status.busy": "2021-12-28T01:29:47.252037Z",
     "iopub.status.idle": "2021-12-28T01:29:55.635846Z",
     "shell.execute_reply": "2021-12-28T01:29:55.635338Z",
     "shell.execute_reply.started": "2021-12-19T16:30:06.063117Z"
    },
    "papermill": {
     "duration": 8.395449,
     "end_time": "2021-12-28T01:29:55.635991",
     "exception": false,
     "start_time": "2021-12-28T01:29:47.240542",
     "status": "completed"
    },
    "tags": []
   },
   "outputs": [],
   "source": [
    "model= pickle.load(open('../input/baseline-toxic/model.pkl', 'rb'))\n",
    "vectorizer=pickle.load(open('../input/baseline-toxic/vectorizer.pkl', 'rb'))"
   ]
  },
  {
   "cell_type": "code",
   "execution_count": 3,
   "id": "2c6d4287",
   "metadata": {
    "execution": {
     "iopub.execute_input": "2021-12-28T01:29:55.658395Z",
     "iopub.status.busy": "2021-12-28T01:29:55.657595Z",
     "iopub.status.idle": "2021-12-28T01:29:55.660065Z",
     "shell.execute_reply": "2021-12-28T01:29:55.659476Z",
     "shell.execute_reply.started": "2021-12-19T16:36:11.792146Z"
    },
    "papermill": {
     "duration": 0.01698,
     "end_time": "2021-12-28T01:29:55.660202",
     "exception": false,
     "start_time": "2021-12-28T01:29:55.643222",
     "status": "completed"
    },
    "tags": []
   },
   "outputs": [],
   "source": [
    "def text_cleaning(text):\n",
    "    '''\n",
    "    Cleans text into a basic form for NLP. Operations include the following:-\n",
    "    1. Remove special charecters like &, #, etc\n",
    "    2. Removes extra spaces\n",
    "    3. Removes embedded URL links\n",
    "    4. Removes HTML tags\n",
    "    5. Removes emojis\n",
    "    \n",
    "    text - Text piece to be cleaned.\n",
    "    '''\n",
    "    template = re.compile(r'https?://\\S+|www\\.\\S+') #Removes website links\n",
    "    text = template.sub(r'', text)\n",
    "    \n",
    "    soup = BeautifulSoup(text, 'lxml') #Removes HTML tags\n",
    "    only_text = soup.get_text()\n",
    "    text = only_text\n",
    "    \n",
    "    emoji_pattern = re.compile(\"[\"\n",
    "                               u\"\\U0001F600-\\U0001F64F\"  # emoticons\n",
    "                               u\"\\U0001F300-\\U0001F5FF\"  # symbols & pictographs\n",
    "                               u\"\\U0001F680-\\U0001F6FF\"  # transport & map symbols\n",
    "                               u\"\\U0001F1E0-\\U0001F1FF\"  # flags (iOS)\n",
    "                               u\"\\U00002702-\\U000027B0\"\n",
    "                               u\"\\U000024C2-\\U0001F251\"\n",
    "                               \"]+\", flags=re.UNICODE)\n",
    "    text = emoji_pattern.sub(r'', text)\n",
    "    \n",
    "    text = re.sub(r\"[^a-zA-Z\\d]\", \" \", text) #Remove special Charecters\n",
    "    text = re.sub(' +', ' ', text) #Remove Extra Spaces\n",
    "    text = text.strip() # remove spaces at the beginning and at the end of string\n",
    "\n",
    "    return text"
   ]
  },
  {
   "cell_type": "code",
   "execution_count": 4,
   "id": "ccf0601b",
   "metadata": {
    "execution": {
     "iopub.execute_input": "2021-12-28T01:29:55.678813Z",
     "iopub.status.busy": "2021-12-28T01:29:55.677894Z",
     "iopub.status.idle": "2021-12-28T01:29:55.768747Z",
     "shell.execute_reply": "2021-12-28T01:29:55.769248Z",
     "shell.execute_reply.started": "2021-12-19T16:36:36.549475Z"
    },
    "papermill": {
     "duration": 0.102019,
     "end_time": "2021-12-28T01:29:55.769447",
     "exception": false,
     "start_time": "2021-12-28T01:29:55.667428",
     "status": "completed"
    },
    "tags": []
   },
   "outputs": [],
   "source": [
    "valid=pd.read_csv('../input/jigsaw-toxic-severity-rating/comments_to_score.csv')"
   ]
  },
  {
   "cell_type": "code",
   "execution_count": 5,
   "id": "1f07dbe1",
   "metadata": {
    "execution": {
     "iopub.execute_input": "2021-12-28T01:29:55.787301Z",
     "iopub.status.busy": "2021-12-28T01:29:55.786668Z",
     "iopub.status.idle": "2021-12-28T01:29:58.000980Z",
     "shell.execute_reply": "2021-12-28T01:29:58.000302Z",
     "shell.execute_reply.started": "2021-12-19T16:36:38.194376Z"
    },
    "papermill": {
     "duration": 2.224614,
     "end_time": "2021-12-28T01:29:58.001145",
     "exception": false,
     "start_time": "2021-12-28T01:29:55.776531",
     "status": "completed"
    },
    "tags": []
   },
   "outputs": [],
   "source": [
    "text=valid['text'].apply(text_cleaning)"
   ]
  },
  {
   "cell_type": "code",
   "execution_count": 6,
   "id": "34dff8cd",
   "metadata": {
    "execution": {
     "iopub.execute_input": "2021-12-28T01:29:58.024228Z",
     "iopub.status.busy": "2021-12-28T01:29:58.023606Z",
     "iopub.status.idle": "2021-12-28T01:29:59.391111Z",
     "shell.execute_reply": "2021-12-28T01:29:59.390438Z",
     "shell.execute_reply.started": "2021-12-19T16:38:35.35912Z"
    },
    "papermill": {
     "duration": 1.382751,
     "end_time": "2021-12-28T01:29:59.391257",
     "exception": false,
     "start_time": "2021-12-28T01:29:58.008506",
     "status": "completed"
    },
    "tags": []
   },
   "outputs": [],
   "source": [
    "text=vectorizer.transform(text)"
   ]
  },
  {
   "cell_type": "code",
   "execution_count": null,
   "id": "3d1e711c",
   "metadata": {
    "papermill": {
     "duration": 0.006691,
     "end_time": "2021-12-28T01:29:59.405453",
     "exception": false,
     "start_time": "2021-12-28T01:29:59.398762",
     "status": "completed"
    },
    "tags": []
   },
   "outputs": [],
   "source": []
  },
  {
   "cell_type": "code",
   "execution_count": 7,
   "id": "f7eccdb5",
   "metadata": {
    "execution": {
     "iopub.execute_input": "2021-12-28T01:29:59.423937Z",
     "iopub.status.busy": "2021-12-28T01:29:59.423338Z",
     "iopub.status.idle": "2021-12-28T01:29:59.432546Z",
     "shell.execute_reply": "2021-12-28T01:29:59.431993Z",
     "shell.execute_reply.started": "2021-12-19T16:42:43.614037Z"
    },
    "papermill": {
     "duration": 0.02027,
     "end_time": "2021-12-28T01:29:59.432683",
     "exception": false,
     "start_time": "2021-12-28T01:29:59.412413",
     "status": "completed"
    },
    "tags": []
   },
   "outputs": [],
   "source": [
    "out=model.predict(text)"
   ]
  },
  {
   "cell_type": "code",
   "execution_count": 8,
   "id": "3efece5c",
   "metadata": {
    "execution": {
     "iopub.execute_input": "2021-12-28T01:29:59.449789Z",
     "iopub.status.busy": "2021-12-28T01:29:59.449199Z",
     "iopub.status.idle": "2021-12-28T01:29:59.454106Z",
     "shell.execute_reply": "2021-12-28T01:29:59.454598Z",
     "shell.execute_reply.started": "2021-12-19T16:45:37.444113Z"
    },
    "papermill": {
     "duration": 0.015048,
     "end_time": "2021-12-28T01:29:59.454780",
     "exception": false,
     "start_time": "2021-12-28T01:29:59.439732",
     "status": "completed"
    },
    "tags": []
   },
   "outputs": [],
   "source": [
    "sub=pd.DataFrame({\"comment_id\":valid[\"comment_id\"],\"score\":out})"
   ]
  },
  {
   "cell_type": "code",
   "execution_count": 9,
   "id": "7e2dde7e",
   "metadata": {
    "execution": {
     "iopub.execute_input": "2021-12-28T01:29:59.473628Z",
     "iopub.status.busy": "2021-12-28T01:29:59.472726Z",
     "iopub.status.idle": "2021-12-28T01:29:59.497697Z",
     "shell.execute_reply": "2021-12-28T01:29:59.497187Z"
    },
    "papermill": {
     "duration": 0.036076,
     "end_time": "2021-12-28T01:29:59.497840",
     "exception": false,
     "start_time": "2021-12-28T01:29:59.461764",
     "status": "completed"
    },
    "tags": []
   },
   "outputs": [],
   "source": [
    "sub.to_csv(\"submission.csv\",index=False)"
   ]
  }
 ],
 "metadata": {
  "kernelspec": {
   "display_name": "Python 3",
   "language": "python",
   "name": "python3"
  },
  "language_info": {
   "codemirror_mode": {
    "name": "ipython",
    "version": 3
   },
   "file_extension": ".py",
   "mimetype": "text/x-python",
   "name": "python",
   "nbconvert_exporter": "python",
   "pygments_lexer": "ipython3",
   "version": "3.7.12"
  },
  "papermill": {
   "default_parameters": {},
   "duration": 24.083796,
   "end_time": "2021-12-28T01:30:00.416178",
   "environment_variables": {},
   "exception": null,
   "input_path": "__notebook__.ipynb",
   "output_path": "__notebook__.ipynb",
   "parameters": {},
   "start_time": "2021-12-28T01:29:36.332382",
   "version": "2.3.3"
  }
 },
 "nbformat": 4,
 "nbformat_minor": 5
}
